{
 "cells": [
  {
   "cell_type": "markdown",
   "metadata": {},
   "source": [
    "# Object Detection using GluonCV on Amazon SageMaker\n",
    "\n",
    "1. [Introduction](#Introduction)\n",
    "2. [Setup](#Setup)\n",
    "3. [Data Preparation](#Data-Preparation)\n",
    "4. [Train the model](#Train-the-model)\n",
    "5. [Host the model](#Host-the-model)\n",
    "6. [Test the model](#Test-the-model)\n",
    "7. [Clean up](#Clean-up)\n",
    "8. [Improve the model](#Improve-the-model)\n",
    "9. [Final cleanup](#Final-cleanup)"
   ]
  },
  {
   "cell_type": "markdown",
   "metadata": {},
   "source": [
    "## Introduction\n",
    "\n",
    "Object detection is the process of identifying and localizing objects in an image. A typical object detection solution takes an image as input and provides a bounding box on the image where an object of interest is found.  It also identifies what type of object the box encapsulates.  To create such a solution, we need to acquire and process a traning dataset, create and setup a training job for the alorithm so that it can learn about the dataset. Finally, we can then host the trained model in an endpoint, to which we can supply images.\n",
    "\n",
    "This notebook is an end-to-end example showing how the Amazon SageMaker Object Detection algorithm can be used with a publicly available dataset of bird images. We demonstrate how to train and to host an object detection model based on the [Caltech Birds (CUB 200 2011)](http://www.vision.caltech.edu/visipedia/CUB-200-2011.html) dataset.  Amazon SageMaker's object detection algorithm uses the Single Shot multibox Detector ([SSD](https://arxiv.org/abs/1512.02325)) algorithm, and this notebook uses a [ResNet](https://arxiv.org/pdf/1603.05027.pdf) base network with that algorithm.\n",
    "\n",
    "![Sample results detecting a pair of goldfinch on a feeder](./goldfinch_detections.png)\n",
    "\n",
    "We will also demonstrate how to construct a training dataset using the RecordIO format, as this is the format that the training job consumes.  This notebook is similar to the [Object Detection using the RecordIO format](https://github.com/awslabs/amazon-sagemaker-examples/blob/master/introduction_to_amazon_algorithms/object_detection_pascalvoc_coco/object_detection_recordio_format.ipynb) notebook, with the following key differences:\n",
    "\n",
    "- We provide an example of how to translate bounding box specifications when providing images to SageMaker's algorithm. You will see code for generating the train.lst and val.lst files used to create [recordIO](https://mxnet.incubator.apache.org/architecture/note_data_loading.html) files.\n",
    "- We demonstrate how to improve an object detection model by adding training images that are flipped horizontally (mirror images).\n",
    "- We give you a notebook for experimenting with object detection challenges with an order of magnitude more classes (200 bird species, as opposed to the 20 categories used by [Pascal VOC](http://host.robots.ox.ac.uk/pascal/VOC/)).\n",
    "- We show how to chart the accuracy improvements that occur across the epochs of the training job.\n",
    "\n",
    "Note that Amazon SageMaker Object Detection also allows training with the image and JSON format, which is illustrated in the [image and JSON Notebook](https://github.com/awslabs/amazon-sagemaker-examples/blob/master/introduction_to_amazon_algorithms/object_detection_pascalvoc_coco/object_detection_image_json_format.ipynb).\n",
    "\n",
    "TODO--modify"
   ]
  },
  {
   "cell_type": "markdown",
   "metadata": {},
   "source": [
    "## Setup\n",
    "\n",
    "Before preparing the data, there are some initial steps required for setup.\n",
    "\n",
    "First, you should be running this notebook on a **ml.c5d.4xlarge** or larger instance if you plan to run the training script locally on your notebook. Otherwise, you'll need to lower the batch size to avoid out-of-memory errors.\n",
    "\n",
    "Any GPU instances like the ml.p3.2xlarge will do, and in practice, will be the ideal choice for a notebook instance."
   ]
  },
  {
   "cell_type": "markdown",
   "metadata": {},
   "source": [
    "Run the following cell to import the depedencies on this notebook. Most of the libraries that you need for MXNet and Gluon development are already packaged into the conda_mxnet_p36 environment."
   ]
  },
  {
   "cell_type": "code",
   "execution_count": 1,
   "metadata": {},
   "outputs": [],
   "source": [
    "import os\n",
    "import time\n",
    "import numpy as np\n",
    "import pandas as pd\n",
    "import mxnet as mx\n",
    "from mxnet import autograd, gluon\n",
    "from matplotlib import pyplot as plt\n",
    "import sagemaker\n",
    "\n",
    "role = sagemaker.get_execution_role()"
   ]
  },
  {
   "cell_type": "markdown",
   "metadata": {},
   "source": [
    "GluonCV isn't pre-installed into this environment. However, most of the dependencies required by GluonCV have already been packaged into the **conda_mxnet_p36** environment. \n",
    "\n",
    "GluonCV has the following requirements that we will have to install manually:\n",
    "* MXNet 1.4\n",
    "* GluonCV libraries\n",
    "\n",
    "Installation instructions for GluonCV are provided [here](https://gluon-cv.mxnet.io/#installation)"
   ]
  },
  {
   "cell_type": "code",
   "execution_count": 3,
   "metadata": {},
   "outputs": [
    {
     "name": "stdout",
     "output_type": "stream",
     "text": [
      "Using CPU on local machine. GPU device was not detected\n"
     ]
    }
   ],
   "source": [
    "# MXNet has different libraries for GPU versus CPU environments. \n",
    "# We need to detect whether GPU is available on this instance.\n",
    "USE_GPU = True\n",
    "try:\n",
    "    a = mx.nd.zeros((1,), ctx=mx.gpu(0))\n",
    "    ctx = [mx.gpu(0)]\n",
    "    print('GPU device is available')\n",
    "except:\n",
    "    ctx = [mx.cpu()]\n",
    "    USE_GPU = False\n",
    "    print('Using CPU on local machine. GPU device was not detected')"
   ]
  },
  {
   "cell_type": "markdown",
   "metadata": {},
   "source": [
    "Next we..\n",
    "* Ensure pip is up to date.\n",
    "* Upgrade MXNet 1.3 to 1.4 with the appropriate libraries depending on whether GPU is available.\n",
    "* Install GluonCV"
   ]
  },
  {
   "cell_type": "code",
   "execution_count": 4,
   "metadata": {},
   "outputs": [
    {
     "name": "stdout",
     "output_type": "stream",
     "text": [
      "GluonCV dependencies were installed in 9.184580 seconds.\n"
     ]
    }
   ],
   "source": [
    "start = time.time()\n",
    "os.system('pip install --upgrade pip')\n",
    "\n",
    "if USE_GPU :\n",
    "    os.system('pip install mxnet-cu90mkl>=1.4.0 --upgrade')\n",
    "else :\n",
    "    os.system('pip install mxnet-mkl>=1.4.0 --upgrade')\n",
    "\n",
    "os.system('pip install gluoncv --upgrade')\n",
    "\n",
    "end = time.time()\n",
    "\n",
    "print(\"GluonCV dependencies were installed in {:3f} seconds.\".format(end-start))"
   ]
  },
  {
   "cell_type": "markdown",
   "metadata": {},
   "source": [
    "Gluoncv should now be available for us. Import our required libraries."
   ]
  },
  {
   "cell_type": "code",
   "execution_count": 5,
   "metadata": {},
   "outputs": [],
   "source": [
    "import gluoncv as gcv\n",
    "from gluoncv.utils import download, viz"
   ]
  },
  {
   "cell_type": "markdown",
   "metadata": {},
   "source": [
    "In the next session, we'll create an optimized dataset (RecordIO format) for training our YOLOv3 model. The process can take 15 minutes. \n",
    "\n",
    "It's up to you whether you like to go through the steps of pre-processing your dataset into RecordIO format. Alternatively, I've provided pre-processed datasets for you to use.\n",
    "\n",
    "Run the cell below to set the locations of the pre-processed train and validation datasets. Note that MXNet doesn't require RecordIO format, but there are various benefits as described below."
   ]
  },
  {
   "cell_type": "code",
   "execution_count": 6,
   "metadata": {},
   "outputs": [],
   "source": [
    "SAMPLE_TRAINING_DATASET = 's3://reinvent2018-sagemaker-pytorch/datasets/caltech-birds/recordio/train'\n",
    "SAMPLE_TEST_DATASET = 's3://reinvent2018-sagemaker-pytorch/datasets/caltech-birds/recordio/test'"
   ]
  },
  {
   "cell_type": "markdown",
   "metadata": {},
   "source": [
    "# [Optional] Data Preparation and Exploration\n",
    "\n",
    "---\n",
    "This section is **optional**. For the purpose of making this lab as efficient as possible, data sets have already been prepared for you in MXNet [RecordIO format](https://mxnet.incubator.apache.org/versions/master/faq/recordio.html), which has various [benefits](https://mxnet.incubator.apache.org/versions/master/faq/recordio.html) including performance enhancements. The following are steps that were taken to produce training and validation samples in RecordIO format. Take note of the utility functions that MXNet provides for format conversion as well as the native data loaders. These are great features that reduce data wrangling work, and aren't provided by most frameworks.\n",
    "\n",
    "---\n",
    "This [link](https://cv-workshop-2.notebook.us-west-2.sagemaker.aws/notebooks/aws-cv-jumpstarter/notebooks/lab3b-optional-generate-recordio-files.ipynb) will launch another notebook, which will guide you through this optional section."
   ]
  },
  {
   "cell_type": "markdown",
   "metadata": {},
   "source": [
    "# Experimentation and Prototyping"
   ]
  },
  {
   "cell_type": "markdown",
   "metadata": {},
   "source": [
    "The notebook environment is an ideal environment for rapid prototyping and experimentation. Run the cell below to preview the YOLOv3 training script that we will use to train the model.\n",
    "\n",
    "The script is no different than one you would run outside of the Amazon SageMaker environment. The only exception is that are conditions in the script to set parameters to environment variables that will be present when we run remote SageMaker training. They're only necessary if you plan to refactor your script to take advantage of the zero-setup SageMaker training capabilities."
   ]
  },
  {
   "cell_type": "code",
   "execution_count": 9,
   "metadata": {},
   "outputs": [
    {
     "name": "stdout",
     "output_type": "stream",
     "text": [
      "\u001b[34mimport\u001b[39;49;00m \u001b[04m\u001b[36margparse\u001b[39;49;00m\r\n",
      "\u001b[34mimport\u001b[39;49;00m \u001b[04m\u001b[36mos\u001b[39;49;00m\r\n",
      "\u001b[37m#from os import walk\u001b[39;49;00m\r\n",
      "\u001b[37m#import shutil\u001b[39;49;00m\r\n",
      "\u001b[34mimport\u001b[39;49;00m \u001b[04m\u001b[36mlogging\u001b[39;49;00m\r\n",
      "\u001b[34mimport\u001b[39;49;00m \u001b[04m\u001b[36mtime\u001b[39;49;00m\r\n",
      "\u001b[37m#import json\u001b[39;49;00m\r\n",
      "\u001b[34mimport\u001b[39;49;00m \u001b[04m\u001b[36mwarnings\u001b[39;49;00m\r\n",
      "\u001b[34mimport\u001b[39;49;00m \u001b[04m\u001b[36mnumpy\u001b[39;49;00m \u001b[34mas\u001b[39;49;00m \u001b[04m\u001b[36mnp\u001b[39;49;00m\r\n",
      "\u001b[34mimport\u001b[39;49;00m \u001b[04m\u001b[36mmxnet\u001b[39;49;00m \u001b[34mas\u001b[39;49;00m \u001b[04m\u001b[36mmx\u001b[39;49;00m\r\n",
      "\u001b[34mimport\u001b[39;49;00m \u001b[04m\u001b[36mpandas\u001b[39;49;00m \u001b[34mas\u001b[39;49;00m \u001b[04m\u001b[36mpd\u001b[39;49;00m\r\n",
      "\u001b[34mfrom\u001b[39;49;00m \u001b[04m\u001b[36mmxnet\u001b[39;49;00m \u001b[34mimport\u001b[39;49;00m nd\r\n",
      "\u001b[34mfrom\u001b[39;49;00m \u001b[04m\u001b[36mmxnet\u001b[39;49;00m \u001b[34mimport\u001b[39;49;00m gluon\r\n",
      "\u001b[34mfrom\u001b[39;49;00m \u001b[04m\u001b[36mmxnet\u001b[39;49;00m \u001b[34mimport\u001b[39;49;00m autograd\r\n",
      "\u001b[34mimport\u001b[39;49;00m \u001b[04m\u001b[36mgluoncv\u001b[39;49;00m \u001b[34mas\u001b[39;49;00m \u001b[04m\u001b[36mgcv\u001b[39;49;00m\r\n",
      "\u001b[34mfrom\u001b[39;49;00m \u001b[04m\u001b[36mgluoncv\u001b[39;49;00m \u001b[34mimport\u001b[39;49;00m data \u001b[34mas\u001b[39;49;00m gdata\r\n",
      "\u001b[34mfrom\u001b[39;49;00m \u001b[04m\u001b[36mgluoncv\u001b[39;49;00m \u001b[34mimport\u001b[39;49;00m utils \u001b[34mas\u001b[39;49;00m gutils\r\n",
      "\u001b[34mfrom\u001b[39;49;00m \u001b[04m\u001b[36mgluoncv.model_zoo\u001b[39;49;00m \u001b[34mimport\u001b[39;49;00m get_model\r\n",
      "\u001b[34mfrom\u001b[39;49;00m \u001b[04m\u001b[36mgluoncv.data.batchify\u001b[39;49;00m \u001b[34mimport\u001b[39;49;00m Tuple, Stack, Pad\r\n",
      "\u001b[34mfrom\u001b[39;49;00m \u001b[04m\u001b[36mgluoncv.data.transforms.presets.yolo\u001b[39;49;00m \u001b[34mimport\u001b[39;49;00m YOLO3DefaultTrainTransform\r\n",
      "\u001b[34mfrom\u001b[39;49;00m \u001b[04m\u001b[36mgluoncv.data.transforms.presets.yolo\u001b[39;49;00m \u001b[34mimport\u001b[39;49;00m YOLO3DefaultValTransform\r\n",
      "\u001b[34mfrom\u001b[39;49;00m \u001b[04m\u001b[36mgluoncv.data.dataloader\u001b[39;49;00m \u001b[34mimport\u001b[39;49;00m RandomTransformDataLoader\r\n",
      "\u001b[34mfrom\u001b[39;49;00m \u001b[04m\u001b[36mgluoncv.utils.metrics.voc_detection\u001b[39;49;00m \u001b[34mimport\u001b[39;49;00m VOC07MApMetric\r\n",
      "\u001b[34mfrom\u001b[39;49;00m \u001b[04m\u001b[36mgluoncv.utils.metrics.coco_detection\u001b[39;49;00m \u001b[34mimport\u001b[39;49;00m COCODetectionMetric\r\n",
      "\u001b[34mfrom\u001b[39;49;00m \u001b[04m\u001b[36mgluoncv.utils\u001b[39;49;00m \u001b[34mimport\u001b[39;49;00m LRScheduler, LRSequential\r\n",
      "\r\n",
      "EVAL_METRICS = {\r\n",
      "    \u001b[33m'\u001b[39;49;00m\u001b[33mmAP\u001b[39;49;00m\u001b[33m'\u001b[39;49;00m:\u001b[34m0.0\u001b[39;49;00m,\r\n",
      "    \u001b[33m'\u001b[39;49;00m\u001b[33mObjLoss\u001b[39;49;00m\u001b[33m'\u001b[39;49;00m:\u001b[34m10000.0\u001b[39;49;00m,\r\n",
      "    \u001b[33m'\u001b[39;49;00m\u001b[33mBoxCenterLoss\u001b[39;49;00m\u001b[33m'\u001b[39;49;00m:\u001b[34m10000.0\u001b[39;49;00m,\r\n",
      "    \u001b[33m'\u001b[39;49;00m\u001b[33mBoxScaleLoss\u001b[39;49;00m\u001b[33m'\u001b[39;49;00m:\u001b[34m10000.0\u001b[39;49;00m,\r\n",
      "    \u001b[33m'\u001b[39;49;00m\u001b[33mClassLoss\u001b[39;49;00m\u001b[33m'\u001b[39;49;00m:\u001b[34m10000.0\u001b[39;49;00m\r\n",
      "}\r\n",
      "\r\n",
      "MODEL_DIR = \u001b[33m\"\u001b[39;49;00m\u001b[33m\"\u001b[39;49;00m\r\n",
      "CLASSES_FILE = \u001b[33m\"\u001b[39;49;00m\u001b[33m\"\u001b[39;49;00m\r\n",
      "\r\n",
      "\u001b[34mdef\u001b[39;49;00m \u001b[32mparse_args\u001b[39;49;00m():\r\n",
      "\r\n",
      "    \u001b[37m# hyperparameters sent by the client are passed as command-line arguments to the script.\u001b[39;49;00m\r\n",
      "    parser = argparse.ArgumentParser(description=\u001b[33m'\u001b[39;49;00m\u001b[33mTrain YOLOv3 networks with random input shape.\u001b[39;49;00m\u001b[33m'\u001b[39;49;00m)\r\n",
      "\r\n",
      "    parser.add_argument(\u001b[33m'\u001b[39;49;00m\u001b[33m--network\u001b[39;49;00m\u001b[33m'\u001b[39;49;00m, \u001b[36mtype\u001b[39;49;00m=\u001b[36mstr\u001b[39;49;00m, default=\u001b[33m'\u001b[39;49;00m\u001b[33mdarknet53\u001b[39;49;00m\u001b[33m'\u001b[39;49;00m,\r\n",
      "                        help=\u001b[33m\"\u001b[39;49;00m\u001b[33mBase network name which serves as feature extraction base.\u001b[39;49;00m\u001b[33m\"\u001b[39;49;00m)\r\n",
      "    parser.add_argument(\u001b[33m'\u001b[39;49;00m\u001b[33m--obj-metric\u001b[39;49;00m\u001b[33m'\u001b[39;49;00m, \u001b[36mtype\u001b[39;49;00m=\u001b[36mstr\u001b[39;49;00m, default=\u001b[33m'\u001b[39;49;00m\u001b[33mmAP\u001b[39;49;00m\u001b[33m'\u001b[39;49;00m,\r\n",
      "                        help=\u001b[33m\"\u001b[39;49;00m\u001b[33mSelect an objective metric to optimize using a SageMaker tuner: \u001b[39;49;00m\u001b[33m'\u001b[39;49;00m\u001b[33mmAP\u001b[39;49;00m\u001b[33m'\u001b[39;49;00m\u001b[33m,\u001b[39;49;00m\u001b[33m'\u001b[39;49;00m\u001b[33mObjective-Loss\u001b[39;49;00m\u001b[33m'\u001b[39;49;00m\u001b[33m,\u001b[39;49;00m\u001b[33m'\u001b[39;49;00m\u001b[33mBox-Center-Loss\u001b[39;49;00m\u001b[33m'\u001b[39;49;00m\u001b[33m,\u001b[39;49;00m\u001b[33m'\u001b[39;49;00m\u001b[33mBox-Scale-Loss\u001b[39;49;00m\u001b[33m'\u001b[39;49;00m\u001b[33m,\u001b[39;49;00m\u001b[33m'\u001b[39;49;00m\u001b[33mClass-Loss\u001b[39;49;00m\u001b[33m'\u001b[39;49;00m\u001b[33m\"\u001b[39;49;00m)\r\n",
      "    parser.add_argument(\u001b[33m'\u001b[39;49;00m\u001b[33m--data-shape\u001b[39;49;00m\u001b[33m'\u001b[39;49;00m, \u001b[36mtype\u001b[39;49;00m=\u001b[36mint\u001b[39;49;00m, default=\u001b[34m416\u001b[39;49;00m,\r\n",
      "                        help=\u001b[33m\"\u001b[39;49;00m\u001b[33mInput data shape for evaluation, use 320, 416, 608... \u001b[39;49;00m\u001b[33m\"\u001b[39;49;00m +\r\n",
      "                             \u001b[33m\"\u001b[39;49;00m\u001b[33mTraining is with random shapes from (320 to 608).\u001b[39;49;00m\u001b[33m\"\u001b[39;49;00m)\r\n",
      "    parser.add_argument(\u001b[33m'\u001b[39;49;00m\u001b[33m--opt\u001b[39;49;00m\u001b[33m'\u001b[39;49;00m, \u001b[36mtype\u001b[39;49;00m=\u001b[36mstr\u001b[39;49;00m, default=\u001b[33m'\u001b[39;49;00m\u001b[33madam\u001b[39;49;00m\u001b[33m'\u001b[39;49;00m,\r\n",
      "                        help=\u001b[33m\"\u001b[39;49;00m\u001b[33mOptimzer to use for training. Currently only sgd or adam is supported.\u001b[39;49;00m\u001b[33m\"\u001b[39;49;00m)\r\n",
      "    parser.add_argument(\u001b[33m'\u001b[39;49;00m\u001b[33m--batch-size\u001b[39;49;00m\u001b[33m'\u001b[39;49;00m, \u001b[36mtype\u001b[39;49;00m=\u001b[36mint\u001b[39;49;00m, default=\u001b[34m32\u001b[39;49;00m,\r\n",
      "                        help=\u001b[33m'\u001b[39;49;00m\u001b[33mTraining mini-batch size\u001b[39;49;00m\u001b[33m'\u001b[39;49;00m)\r\n",
      "    parser.add_argument(\u001b[33m'\u001b[39;49;00m\u001b[33m--pre-trained-weights\u001b[39;49;00m\u001b[33m'\u001b[39;49;00m, \u001b[36mtype\u001b[39;49;00m=\u001b[36mstr\u001b[39;49;00m, default=\u001b[33m'\u001b[39;49;00m\u001b[33mVOC\u001b[39;49;00m\u001b[33m'\u001b[39;49;00m,\r\n",
      "                        help=\u001b[33m'\u001b[39;49;00m\u001b[33mSet COCO or VOC pre-trained weights. Otherwise, set NONE to disable pre-training.\u001b[39;49;00m\u001b[33m'\u001b[39;49;00m)\r\n",
      "    parser.add_argument(\u001b[33m'\u001b[39;49;00m\u001b[33m--data-prefix\u001b[39;49;00m\u001b[33m'\u001b[39;49;00m, \u001b[36mtype\u001b[39;49;00m=\u001b[36mstr\u001b[39;49;00m, default=\u001b[33m'\u001b[39;49;00m\u001b[33m'\u001b[39;49;00m,\r\n",
      "                        help=\u001b[33m'\u001b[39;49;00m\u001b[33mImage folder prefix relative to train or test channel as referenced by LST files.\u001b[39;49;00m\u001b[33m'\u001b[39;49;00m)                   \r\n",
      "    parser.add_argument(\u001b[33m'\u001b[39;49;00m\u001b[33m--num-workers\u001b[39;49;00m\u001b[33m'\u001b[39;49;00m, \u001b[33m'\u001b[39;49;00m\u001b[33m-j\u001b[39;49;00m\u001b[33m'\u001b[39;49;00m, dest=\u001b[33m'\u001b[39;49;00m\u001b[33mnum_workers\u001b[39;49;00m\u001b[33m'\u001b[39;49;00m, \u001b[36mtype\u001b[39;49;00m=\u001b[36mint\u001b[39;49;00m,\r\n",
      "                        default=\u001b[34m4\u001b[39;49;00m, help=\u001b[33m'\u001b[39;49;00m\u001b[33mNumber of data workers, you can use larger \u001b[39;49;00m\u001b[33m'\u001b[39;49;00m\r\n",
      "                        \u001b[33m'\u001b[39;49;00m\u001b[33mnumber to accelerate data loading, if you CPU and GPUs are powerful.\u001b[39;49;00m\u001b[33m'\u001b[39;49;00m)\r\n",
      "    parser.add_argument(\u001b[33m'\u001b[39;49;00m\u001b[33m--gpus\u001b[39;49;00m\u001b[33m'\u001b[39;49;00m, \u001b[36mtype\u001b[39;49;00m=\u001b[36mstr\u001b[39;49;00m, default=\u001b[33m'\u001b[39;49;00m\u001b[33m0\u001b[39;49;00m\u001b[33m'\u001b[39;49;00m,\r\n",
      "                        help=\u001b[33m'\u001b[39;49;00m\u001b[33mTraining with GPUs, you can specify 1,3 for example.\u001b[39;49;00m\u001b[33m'\u001b[39;49;00m)\r\n",
      "    parser.add_argument(\u001b[33m'\u001b[39;49;00m\u001b[33m--epochs\u001b[39;49;00m\u001b[33m'\u001b[39;49;00m, \u001b[36mtype\u001b[39;49;00m=\u001b[36mint\u001b[39;49;00m, default=\u001b[34m200\u001b[39;49;00m,\r\n",
      "                        help=\u001b[33m'\u001b[39;49;00m\u001b[33mTraining epochs.\u001b[39;49;00m\u001b[33m'\u001b[39;49;00m)\r\n",
      "    parser.add_argument(\u001b[33m'\u001b[39;49;00m\u001b[33m--resume\u001b[39;49;00m\u001b[33m'\u001b[39;49;00m, \u001b[36mtype\u001b[39;49;00m=\u001b[36mstr\u001b[39;49;00m, default=\u001b[33m'\u001b[39;49;00m\u001b[33m'\u001b[39;49;00m,\r\n",
      "                        help=\u001b[33m'\u001b[39;49;00m\u001b[33mResume from previously saved parameters if not None. \u001b[39;49;00m\u001b[33m'\u001b[39;49;00m\r\n",
      "                        \u001b[33m'\u001b[39;49;00m\u001b[33mFor example, you can resume from ./yolo3_xxx_0123.params\u001b[39;49;00m\u001b[33m'\u001b[39;49;00m)\r\n",
      "    parser.add_argument(\u001b[33m'\u001b[39;49;00m\u001b[33m--start-epoch\u001b[39;49;00m\u001b[33m'\u001b[39;49;00m, \u001b[36mtype\u001b[39;49;00m=\u001b[36mint\u001b[39;49;00m, default=\u001b[34m0\u001b[39;49;00m,\r\n",
      "                        help=\u001b[33m'\u001b[39;49;00m\u001b[33mStarting epoch for resuming, default is 0 for new training.\u001b[39;49;00m\u001b[33m'\u001b[39;49;00m\r\n",
      "                        \u001b[33m'\u001b[39;49;00m\u001b[33mYou can specify it to 100 for example to start from 100 epoch.\u001b[39;49;00m\u001b[33m'\u001b[39;49;00m)\r\n",
      "    parser.add_argument(\u001b[33m'\u001b[39;49;00m\u001b[33m--lr\u001b[39;49;00m\u001b[33m'\u001b[39;49;00m, \u001b[36mtype\u001b[39;49;00m=\u001b[36mfloat\u001b[39;49;00m, default=\u001b[34m0.001\u001b[39;49;00m,\r\n",
      "                        help=\u001b[33m'\u001b[39;49;00m\u001b[33mLearning rate, default is 0.001\u001b[39;49;00m\u001b[33m'\u001b[39;49;00m)\r\n",
      "    parser.add_argument(\u001b[33m'\u001b[39;49;00m\u001b[33m--lr-mode\u001b[39;49;00m\u001b[33m'\u001b[39;49;00m, \u001b[36mtype\u001b[39;49;00m=\u001b[36mstr\u001b[39;49;00m, default=\u001b[33m'\u001b[39;49;00m\u001b[33mstep\u001b[39;49;00m\u001b[33m'\u001b[39;49;00m,\r\n",
      "                        help=\u001b[33m'\u001b[39;49;00m\u001b[33mlearning rate scheduler mode. options are step, poly and cosine.\u001b[39;49;00m\u001b[33m'\u001b[39;49;00m)\r\n",
      "    parser.add_argument(\u001b[33m'\u001b[39;49;00m\u001b[33m--lr-decay\u001b[39;49;00m\u001b[33m'\u001b[39;49;00m, \u001b[36mtype\u001b[39;49;00m=\u001b[36mfloat\u001b[39;49;00m, default=\u001b[34m0.1\u001b[39;49;00m,\r\n",
      "                        help=\u001b[33m'\u001b[39;49;00m\u001b[33mdecay rate of learning rate. default is 0.1.\u001b[39;49;00m\u001b[33m'\u001b[39;49;00m)\r\n",
      "    parser.add_argument(\u001b[33m'\u001b[39;49;00m\u001b[33m--lr-decay-period\u001b[39;49;00m\u001b[33m'\u001b[39;49;00m, \u001b[36mtype\u001b[39;49;00m=\u001b[36mint\u001b[39;49;00m, default=\u001b[34m0\u001b[39;49;00m,\r\n",
      "                        help=\u001b[33m'\u001b[39;49;00m\u001b[33minterval for periodic learning rate decays. default is 0 to disable.\u001b[39;49;00m\u001b[33m'\u001b[39;49;00m)\r\n",
      "    parser.add_argument(\u001b[33m'\u001b[39;49;00m\u001b[33m--lr-decay-epoch\u001b[39;49;00m\u001b[33m'\u001b[39;49;00m, \u001b[36mtype\u001b[39;49;00m=\u001b[36mstr\u001b[39;49;00m, default=\u001b[33m'\u001b[39;49;00m\u001b[33m160,180\u001b[39;49;00m\u001b[33m'\u001b[39;49;00m,\r\n",
      "                        help=\u001b[33m'\u001b[39;49;00m\u001b[33mepochs at which learning rate decays. default is 160,180.\u001b[39;49;00m\u001b[33m'\u001b[39;49;00m)\r\n",
      "    parser.add_argument(\u001b[33m'\u001b[39;49;00m\u001b[33m--warmup-lr\u001b[39;49;00m\u001b[33m'\u001b[39;49;00m, \u001b[36mtype\u001b[39;49;00m=\u001b[36mfloat\u001b[39;49;00m, default=\u001b[34m0.0\u001b[39;49;00m,\r\n",
      "                        help=\u001b[33m'\u001b[39;49;00m\u001b[33mstarting warmup learning rate. default is 0.0.\u001b[39;49;00m\u001b[33m'\u001b[39;49;00m)\r\n",
      "    parser.add_argument(\u001b[33m'\u001b[39;49;00m\u001b[33m--warmup-epochs\u001b[39;49;00m\u001b[33m'\u001b[39;49;00m, \u001b[36mtype\u001b[39;49;00m=\u001b[36mint\u001b[39;49;00m, default=\u001b[34m0\u001b[39;49;00m,\r\n",
      "                        help=\u001b[33m'\u001b[39;49;00m\u001b[33mnumber of warmup epochs.\u001b[39;49;00m\u001b[33m'\u001b[39;49;00m)\r\n",
      "    parser.add_argument(\u001b[33m'\u001b[39;49;00m\u001b[33m--momentum\u001b[39;49;00m\u001b[33m'\u001b[39;49;00m, \u001b[36mtype\u001b[39;49;00m=\u001b[36mfloat\u001b[39;49;00m, default=\u001b[34m0.9\u001b[39;49;00m,\r\n",
      "                        help=\u001b[33m'\u001b[39;49;00m\u001b[33mSGD momentum, default is 0.9\u001b[39;49;00m\u001b[33m'\u001b[39;49;00m)\r\n",
      "    parser.add_argument(\u001b[33m'\u001b[39;49;00m\u001b[33m--wd\u001b[39;49;00m\u001b[33m'\u001b[39;49;00m, \u001b[36mtype\u001b[39;49;00m=\u001b[36mfloat\u001b[39;49;00m, default=\u001b[34m0.0005\u001b[39;49;00m,\r\n",
      "                        help=\u001b[33m'\u001b[39;49;00m\u001b[33mWeight decay, default is 5e-4\u001b[39;49;00m\u001b[33m'\u001b[39;49;00m)\r\n",
      "    parser.add_argument(\u001b[33m'\u001b[39;49;00m\u001b[33m--log-interval\u001b[39;49;00m\u001b[33m'\u001b[39;49;00m, \u001b[36mtype\u001b[39;49;00m=\u001b[36mint\u001b[39;49;00m, default=\u001b[34m100\u001b[39;49;00m,\r\n",
      "                        help=\u001b[33m'\u001b[39;49;00m\u001b[33mLogging mini-batch interval. Default is 100.\u001b[39;49;00m\u001b[33m'\u001b[39;49;00m)\r\n",
      "    parser.add_argument(\u001b[33m'\u001b[39;49;00m\u001b[33m--save-prefix\u001b[39;49;00m\u001b[33m'\u001b[39;49;00m, \u001b[36mtype\u001b[39;49;00m=\u001b[36mstr\u001b[39;49;00m, default=\u001b[33m'\u001b[39;49;00m\u001b[33m'\u001b[39;49;00m,\r\n",
      "                        help=\u001b[33m'\u001b[39;49;00m\u001b[33mSaving parameter prefix\u001b[39;49;00m\u001b[33m'\u001b[39;49;00m)\r\n",
      "    parser.add_argument(\u001b[33m'\u001b[39;49;00m\u001b[33m--save-interval\u001b[39;49;00m\u001b[33m'\u001b[39;49;00m, \u001b[36mtype\u001b[39;49;00m=\u001b[36mint\u001b[39;49;00m, default=\u001b[34m50\u001b[39;49;00m,\r\n",
      "                        help=\u001b[33m'\u001b[39;49;00m\u001b[33mSaving parameters epoch interval, best model will always be saved.\u001b[39;49;00m\u001b[33m'\u001b[39;49;00m)\r\n",
      "    parser.add_argument(\u001b[33m'\u001b[39;49;00m\u001b[33m--val-interval\u001b[39;49;00m\u001b[33m'\u001b[39;49;00m, \u001b[36mtype\u001b[39;49;00m=\u001b[36mint\u001b[39;49;00m, default=\u001b[34m1\u001b[39;49;00m,\r\n",
      "                        help=\u001b[33m'\u001b[39;49;00m\u001b[33mEpoch interval for validation, increase the number will reduce the \u001b[39;49;00m\u001b[33m'\u001b[39;49;00m\r\n",
      "                             \u001b[33m'\u001b[39;49;00m\u001b[33mtraining time if validation is slow.\u001b[39;49;00m\u001b[33m'\u001b[39;49;00m)\r\n",
      "    parser.add_argument(\u001b[33m'\u001b[39;49;00m\u001b[33m--seed\u001b[39;49;00m\u001b[33m'\u001b[39;49;00m, \u001b[36mtype\u001b[39;49;00m=\u001b[36mint\u001b[39;49;00m, default=\u001b[34m233\u001b[39;49;00m,\r\n",
      "                        help=\u001b[33m'\u001b[39;49;00m\u001b[33mRandom seed to be fixed.\u001b[39;49;00m\u001b[33m'\u001b[39;49;00m)\r\n",
      "    parser.add_argument(\u001b[33m'\u001b[39;49;00m\u001b[33m--num-samples\u001b[39;49;00m\u001b[33m'\u001b[39;49;00m, \u001b[36mtype\u001b[39;49;00m=\u001b[36mint\u001b[39;49;00m, default=-\u001b[34m1\u001b[39;49;00m,\r\n",
      "                        help=\u001b[33m'\u001b[39;49;00m\u001b[33mTraining images. Use -1 to automatically get the number.\u001b[39;49;00m\u001b[33m'\u001b[39;49;00m)\r\n",
      "    parser.add_argument(\u001b[33m'\u001b[39;49;00m\u001b[33m--syncbn\u001b[39;49;00m\u001b[33m'\u001b[39;49;00m, action=\u001b[33m'\u001b[39;49;00m\u001b[33mstore_true\u001b[39;49;00m\u001b[33m'\u001b[39;49;00m,\r\n",
      "                        help=\u001b[33m'\u001b[39;49;00m\u001b[33mUse synchronize BN across devices.\u001b[39;49;00m\u001b[33m'\u001b[39;49;00m)\r\n",
      "    parser.add_argument(\u001b[33m'\u001b[39;49;00m\u001b[33m--no-random-shape\u001b[39;49;00m\u001b[33m'\u001b[39;49;00m, action=\u001b[33m'\u001b[39;49;00m\u001b[33mstore_true\u001b[39;49;00m\u001b[33m'\u001b[39;49;00m,\r\n",
      "                        help=\u001b[33m'\u001b[39;49;00m\u001b[33mUse fixed size(data-shape) throughout the training, which will be faster \u001b[39;49;00m\u001b[33m'\u001b[39;49;00m\r\n",
      "                        \u001b[33m'\u001b[39;49;00m\u001b[33mand require less memory. However, final model will be slightly worse.\u001b[39;49;00m\u001b[33m'\u001b[39;49;00m)\r\n",
      "    parser.add_argument(\u001b[33m'\u001b[39;49;00m\u001b[33m--no-wd\u001b[39;49;00m\u001b[33m'\u001b[39;49;00m, action=\u001b[33m'\u001b[39;49;00m\u001b[33mstore_true\u001b[39;49;00m\u001b[33m'\u001b[39;49;00m,\r\n",
      "                        help=\u001b[33m'\u001b[39;49;00m\u001b[33mwhether to remove weight decay on bias, and beta/gamma for batchnorm layers.\u001b[39;49;00m\u001b[33m'\u001b[39;49;00m)\r\n",
      "    parser.add_argument(\u001b[33m'\u001b[39;49;00m\u001b[33m--mixup\u001b[39;49;00m\u001b[33m'\u001b[39;49;00m, action=\u001b[33m'\u001b[39;49;00m\u001b[33mstore_true\u001b[39;49;00m\u001b[33m'\u001b[39;49;00m,\r\n",
      "                        help=\u001b[33m'\u001b[39;49;00m\u001b[33mwhether to enable mixup.\u001b[39;49;00m\u001b[33m'\u001b[39;49;00m)\r\n",
      "    parser.add_argument(\u001b[33m'\u001b[39;49;00m\u001b[33m--no-mixup-epochs\u001b[39;49;00m\u001b[33m'\u001b[39;49;00m, \u001b[36mtype\u001b[39;49;00m=\u001b[36mint\u001b[39;49;00m, default=\u001b[34m20\u001b[39;49;00m,\r\n",
      "                        help=\u001b[33m'\u001b[39;49;00m\u001b[33mDisable mixup training if enabled in the last N epochs.\u001b[39;49;00m\u001b[33m'\u001b[39;49;00m)\r\n",
      "    parser.add_argument(\u001b[33m'\u001b[39;49;00m\u001b[33m--label-smooth\u001b[39;49;00m\u001b[33m'\u001b[39;49;00m, action=\u001b[33m'\u001b[39;49;00m\u001b[33mstore_true\u001b[39;49;00m\u001b[33m'\u001b[39;49;00m, help=\u001b[33m'\u001b[39;49;00m\u001b[33mUse label smoothing.\u001b[39;49;00m\u001b[33m'\u001b[39;49;00m)\r\n",
      "    parser.add_argument(\u001b[33m'\u001b[39;49;00m\u001b[33m--local\u001b[39;49;00m\u001b[33m'\u001b[39;49;00m, action=\u001b[33m'\u001b[39;49;00m\u001b[33mstore_true\u001b[39;49;00m\u001b[33m'\u001b[39;49;00m, default=\u001b[36mFalse\u001b[39;49;00m,\r\n",
      "                        help=\u001b[33m'\u001b[39;49;00m\u001b[33mSet to true if you want to run this script locally.\u001b[39;49;00m\u001b[33m'\u001b[39;49;00m)\r\n",
      "    \r\n",
      "    \u001b[37m# input data and model directories\u001b[39;49;00m\r\n",
      "    parser.add_argument(\u001b[33m'\u001b[39;49;00m\u001b[33m--model-dir\u001b[39;49;00m\u001b[33m'\u001b[39;49;00m, \u001b[36mtype\u001b[39;49;00m=\u001b[36mstr\u001b[39;49;00m)\r\n",
      "    parser.add_argument(\u001b[33m'\u001b[39;49;00m\u001b[33m--train\u001b[39;49;00m\u001b[33m'\u001b[39;49;00m, \u001b[36mtype\u001b[39;49;00m=\u001b[36mstr\u001b[39;49;00m)\r\n",
      "    parser.add_argument(\u001b[33m'\u001b[39;49;00m\u001b[33m--test\u001b[39;49;00m\u001b[33m'\u001b[39;49;00m, \u001b[36mtype\u001b[39;49;00m=\u001b[36mstr\u001b[39;49;00m)\r\n",
      "    \r\n",
      "    args, _ = parser.parse_known_args()\r\n",
      "\r\n",
      "    \r\n",
      "    \u001b[34mif\u001b[39;49;00m args.local != \u001b[36mTrue\u001b[39;49;00m :\r\n",
      "        \u001b[34mif\u001b[39;49;00m args.model_dir == \u001b[36mNone\u001b[39;49;00m : args.model_dir = os.environ[\u001b[33m'\u001b[39;49;00m\u001b[33mSM_MODEL_DIR\u001b[39;49;00m\u001b[33m'\u001b[39;49;00m]    \r\n",
      "        \u001b[34mif\u001b[39;49;00m args.train == \u001b[36mNone\u001b[39;49;00m : args.train = os.environ[\u001b[33m'\u001b[39;49;00m\u001b[33mSM_CHANNEL_TRAIN\u001b[39;49;00m\u001b[33m'\u001b[39;49;00m]\r\n",
      "        \u001b[34mif\u001b[39;49;00m args.test == \u001b[36mNone\u001b[39;49;00m : args.test = os.environ[\u001b[33m'\u001b[39;49;00m\u001b[33mSM_CHANNEL_TEST\u001b[39;49;00m\u001b[33m'\u001b[39;49;00m]\r\n",
      "\r\n",
      "        \u001b[34mtry\u001b[39;49;00m :\r\n",
      "            \u001b[34mif\u001b[39;49;00m os.environ[\u001b[33m'\u001b[39;49;00m\u001b[33mSM_CHANNEL_MODEL\u001b[39;49;00m\u001b[33m'\u001b[39;49;00m] != \u001b[36mNone\u001b[39;49;00m :\r\n",
      "                \u001b[34mglobal\u001b[39;49;00m MODEL_DIR\r\n",
      "                MODEL_DIR = os.environ[\u001b[33m'\u001b[39;49;00m\u001b[33mSM_CHANNEL_MODEL\u001b[39;49;00m\u001b[33m'\u001b[39;49;00m]\r\n",
      "                args.resume = os.path.join(os.environ[\u001b[33m'\u001b[39;49;00m\u001b[33mSM_CHANNEL_MODEL\u001b[39;49;00m\u001b[33m'\u001b[39;49;00m],args.resume.strip())\r\n",
      "        \u001b[34mexcept\u001b[39;49;00m :\r\n",
      "                args.resume = \u001b[33m\"\u001b[39;49;00m\u001b[33m\"\u001b[39;49;00m\r\n",
      "    \r\n",
      "    \u001b[34mglobal\u001b[39;49;00m CLASSES_FILE\r\n",
      "    CLASSES_FILE = os.path.join(args.train, \u001b[33m'\u001b[39;49;00m\u001b[33mclasses.csv\u001b[39;49;00m\u001b[33m'\u001b[39;49;00m)\r\n",
      "        \r\n",
      "    \u001b[34mreturn\u001b[39;49;00m args\r\n",
      "\r\n",
      "\u001b[37m# This script is only implemented to support RecordIO format. In addition to RecordIO data in\u001b[39;49;00m\r\n",
      "\u001b[37m# the train and test channel, the script expects the following files at the root:\u001b[39;49;00m\r\n",
      "\u001b[37m#   1. List files for training and validation sets named train.lst and val.lst at the root of the train and \u001b[39;49;00m\r\n",
      "\u001b[37m#      test channels respectively: \u001b[39;49;00m\r\n",
      "\u001b[37m#      (https://mxnet.incubator.apache.org/versions/master/faq/recordio.html#step-1-make-an-image-list-file)\u001b[39;49;00m\r\n",
      "\u001b[37m#   2. classes.csv which should be a comma-delimited list of two columns consisting of the class ids and \u001b[39;49;00m\r\n",
      "\u001b[37m#      names. This file should be located at the root of the train channel.\u001b[39;49;00m\r\n",
      "\u001b[34mdef\u001b[39;49;00m \u001b[32mload_data\u001b[39;49;00m():\r\n",
      "\r\n",
      "    train_dataset = gcv.data.RecordFileDetection(os.path.join(args.train,\u001b[33m'\u001b[39;49;00m\u001b[33mtrain.rec\u001b[39;49;00m\u001b[33m'\u001b[39;49;00m))\r\n",
      "    val_dataset = gcv.data.RecordFileDetection(os.path.join(args.test,\u001b[33m'\u001b[39;49;00m\u001b[33mval.rec\u001b[39;49;00m\u001b[33m'\u001b[39;49;00m))\r\n",
      "\r\n",
      "    classes_df = pd.read_csv(CLASSES_FILE, header=\u001b[36mNone\u001b[39;49;00m)\r\n",
      "    classes = classes_df[\u001b[34m1\u001b[39;49;00m].tolist()\r\n",
      "\r\n",
      "    \u001b[34mif\u001b[39;49;00m args.num_samples < \u001b[34m0\u001b[39;49;00m:\r\n",
      "        args.num_samples = \u001b[36mlen\u001b[39;49;00m(train_dataset)\r\n",
      "    \u001b[34mif\u001b[39;49;00m args.mixup:\r\n",
      "        \u001b[34mfrom\u001b[39;49;00m \u001b[04m\u001b[36mgluoncv.data\u001b[39;49;00m \u001b[34mimport\u001b[39;49;00m MixupDetection\r\n",
      "        train_dataset = MixupDetection(train_dataset)\r\n",
      "\r\n",
      "    \u001b[34mreturn\u001b[39;49;00m train_dataset, val_dataset, classes\r\n",
      "\r\n",
      "\u001b[34mdef\u001b[39;49;00m \u001b[32mget_eval_metric\u001b[39;49;00m(args, CLASSES=\u001b[36mNone\u001b[39;49;00m, IOU_THRESH=\u001b[34m0.5\u001b[39;49;00m):\r\n",
      "\r\n",
      "    \u001b[34mif\u001b[39;49;00m args.pre_trained_weights == \u001b[33m'\u001b[39;49;00m\u001b[33mVOC\u001b[39;49;00m\u001b[33m'\u001b[39;49;00m :\r\n",
      "        eval_metric = VOC07MApMetric(iou_thresh=IOU_THRESH, class_names=CLASSES)\r\n",
      "    \u001b[34melif\u001b[39;49;00m args.pre_trained_weights == \u001b[33m'\u001b[39;49;00m\u001b[33mCOCO\u001b[39;49;00m\u001b[33m'\u001b[39;49;00m :\r\n",
      "        eval_metric = COCODetectionMetric(\r\n",
      "            val_dataset, args.save_prefix + \u001b[33m'\u001b[39;49;00m\u001b[33m_eval\u001b[39;49;00m\u001b[33m'\u001b[39;49;00m, cleanup=\u001b[36mTrue\u001b[39;49;00m,\r\n",
      "            data_shape=(args.data_shape, args.data_shape))\r\n",
      "    \u001b[34melif\u001b[39;49;00m args.pre_trained_weights == \u001b[33m'\u001b[39;49;00m\u001b[33mNONE\u001b[39;49;00m\u001b[33m'\u001b[39;49;00m :\r\n",
      "        eval_metric = VOC07MApMetric(iou_thresh=IOU_THRESH, class_names=CLASSES)\r\n",
      "    \u001b[34melse\u001b[39;49;00m:\r\n",
      "        \u001b[34mraise\u001b[39;49;00m \u001b[36mNotImplementedError\u001b[39;49;00m(\u001b[33m'\u001b[39;49;00m\u001b[33mDataset: {} not implemented.\u001b[39;49;00m\u001b[33m'\u001b[39;49;00m.format(dataset))\r\n",
      "    \r\n",
      "    \u001b[34mreturn\u001b[39;49;00m eval_metric\r\n",
      "\r\n",
      "\u001b[34mdef\u001b[39;49;00m \u001b[32mget_dataloader\u001b[39;49;00m(net, train_dataset, val_dataset, data_shape, batch_size, num_workers, args):\r\n",
      "    \u001b[33m\"\"\"Get dataloader.\"\"\"\u001b[39;49;00m\r\n",
      "    width, height = data_shape, data_shape\r\n",
      "    batchify_fn = Tuple(*([Stack() \u001b[34mfor\u001b[39;49;00m _ \u001b[35min\u001b[39;49;00m \u001b[36mrange\u001b[39;49;00m(\u001b[34m6\u001b[39;49;00m)] + [Pad(axis=\u001b[34m0\u001b[39;49;00m, pad_val=-\u001b[34m1\u001b[39;49;00m) \u001b[34mfor\u001b[39;49;00m _ \u001b[35min\u001b[39;49;00m \u001b[36mrange\u001b[39;49;00m(\u001b[34m1\u001b[39;49;00m)]))  \u001b[37m# stack image, all targets generated\u001b[39;49;00m\r\n",
      "    \u001b[34mif\u001b[39;49;00m args.no_random_shape:\r\n",
      "        train_loader = gluon.data.DataLoader(\r\n",
      "            train_dataset.transform(YOLO3DefaultTrainTransform(width, height, net, mixup=args.mixup)),\r\n",
      "            batch_size, \u001b[36mTrue\u001b[39;49;00m, batchify_fn=batchify_fn, last_batch=\u001b[33m'\u001b[39;49;00m\u001b[33mrollover\u001b[39;49;00m\u001b[33m'\u001b[39;49;00m, num_workers=num_workers)\r\n",
      "    \u001b[34melse\u001b[39;49;00m:\r\n",
      "        transform_fns = [YOLO3DefaultTrainTransform(x * \u001b[34m32\u001b[39;49;00m, x * \u001b[34m32\u001b[39;49;00m, net, mixup=args.mixup) \u001b[34mfor\u001b[39;49;00m x \u001b[35min\u001b[39;49;00m \u001b[36mrange\u001b[39;49;00m(\u001b[34m10\u001b[39;49;00m, \u001b[34m20\u001b[39;49;00m)]\r\n",
      "        train_loader = RandomTransformDataLoader(\r\n",
      "            transform_fns, train_dataset, batch_size=batch_size, interval=\u001b[34m10\u001b[39;49;00m, last_batch=\u001b[33m'\u001b[39;49;00m\u001b[33mrollover\u001b[39;49;00m\u001b[33m'\u001b[39;49;00m,\r\n",
      "            shuffle=\u001b[36mTrue\u001b[39;49;00m, batchify_fn=batchify_fn, num_workers=num_workers)\r\n",
      "    val_batchify_fn = Tuple(Stack(), Pad(pad_val=-\u001b[34m1\u001b[39;49;00m))\r\n",
      "    val_loader = gluon.data.DataLoader(\r\n",
      "        val_dataset.transform(YOLO3DefaultValTransform(width, height)),\r\n",
      "        batch_size, \u001b[36mFalse\u001b[39;49;00m, batchify_fn=val_batchify_fn, last_batch=\u001b[33m'\u001b[39;49;00m\u001b[33mkeep\u001b[39;49;00m\u001b[33m'\u001b[39;49;00m, num_workers=num_workers)\r\n",
      "    \u001b[34mreturn\u001b[39;49;00m train_loader, val_loader\r\n",
      "\r\n",
      "\u001b[34mdef\u001b[39;49;00m \u001b[32msave_params\u001b[39;49;00m(net, best_map, current_map, epoch, save_interval, prefix, model_dir):\r\n",
      "    current_map = \u001b[36mfloat\u001b[39;49;00m(current_map)\r\n",
      " \r\n",
      "    \u001b[34mif\u001b[39;49;00m current_map > best_map[\u001b[34m0\u001b[39;49;00m]:\r\n",
      "        best_map[\u001b[34m0\u001b[39;49;00m] = current_map     \r\n",
      "        net.save_parameters(\u001b[33m'\u001b[39;49;00m\u001b[33m{:s}_best.params\u001b[39;49;00m\u001b[33m'\u001b[39;49;00m.format(os.path.join(model_dir,prefix)))\r\n",
      "        \u001b[34mwith\u001b[39;49;00m \u001b[36mopen\u001b[39;49;00m(prefix+\u001b[33m'\u001b[39;49;00m\u001b[33m_best_map.log\u001b[39;49;00m\u001b[33m'\u001b[39;49;00m, \u001b[33m'\u001b[39;49;00m\u001b[33ma\u001b[39;49;00m\u001b[33m'\u001b[39;49;00m) \u001b[34mas\u001b[39;49;00m f:\r\n",
      "            f.write(\u001b[33m'\u001b[39;49;00m\u001b[33m{:04d}:\u001b[39;49;00m\u001b[33m\\t\u001b[39;49;00m\u001b[33m{:.4f}\u001b[39;49;00m\u001b[33m\\n\u001b[39;49;00m\u001b[33m'\u001b[39;49;00m.format(epoch, current_map))\r\n",
      "    \u001b[34mif\u001b[39;49;00m save_interval \u001b[35mand\u001b[39;49;00m epoch % save_interval == \u001b[34m0\u001b[39;49;00m:\r\n",
      "        net.save_parameters(\u001b[33m'\u001b[39;49;00m\u001b[33m{:s}_{:04d}_{:.4f}.params\u001b[39;49;00m\u001b[33m'\u001b[39;49;00m.format(os.path.join(model_dir,prefix), epoch, current_map))\r\n",
      "    \r\n",
      "\u001b[34mdef\u001b[39;49;00m \u001b[32mvalidate\u001b[39;49;00m(net, val_data, ctx, eval_metric, obj_metric=\u001b[34m0\u001b[39;49;00m):\r\n",
      "    \u001b[33m\"\"\"Test on validation dataset.\"\"\"\u001b[39;49;00m\r\n",
      "    eval_metric.reset()\r\n",
      "    \u001b[37m# set nms threshold and topk constraint\u001b[39;49;00m\r\n",
      "    net.set_nms(nms_thresh=\u001b[34m0.45\u001b[39;49;00m, nms_topk=\u001b[34m400\u001b[39;49;00m)\r\n",
      "    mx.nd.waitall()\r\n",
      "    net.hybridize()\r\n",
      "    \u001b[34mfor\u001b[39;49;00m batch \u001b[35min\u001b[39;49;00m val_data:\r\n",
      "        data = gluon.utils.split_and_load(batch[\u001b[34m0\u001b[39;49;00m], ctx_list=ctx, batch_axis=\u001b[34m0\u001b[39;49;00m, even_split=\u001b[36mFalse\u001b[39;49;00m)\r\n",
      "        label = gluon.utils.split_and_load(batch[\u001b[34m1\u001b[39;49;00m], ctx_list=ctx, batch_axis=\u001b[34m0\u001b[39;49;00m, even_split=\u001b[36mFalse\u001b[39;49;00m)\r\n",
      "        det_bboxes = []\r\n",
      "        det_ids = []\r\n",
      "        det_scores = []\r\n",
      "        gt_bboxes = []\r\n",
      "        gt_ids = []\r\n",
      "        gt_difficults = []\r\n",
      "        \u001b[34mfor\u001b[39;49;00m x, y \u001b[35min\u001b[39;49;00m \u001b[36mzip\u001b[39;49;00m(data, label):\r\n",
      "            \u001b[37m# get prediction results\u001b[39;49;00m\r\n",
      "            ids, scores, bboxes = net(x)\r\n",
      "            det_ids.append(ids)\r\n",
      "            det_scores.append(scores)\r\n",
      "            \u001b[37m# clip to image size\u001b[39;49;00m\r\n",
      "            det_bboxes.append(bboxes.clip(\u001b[34m0\u001b[39;49;00m, batch[\u001b[34m0\u001b[39;49;00m].shape[\u001b[34m2\u001b[39;49;00m]))\r\n",
      "            \u001b[37m# split ground truths\u001b[39;49;00m\r\n",
      "            gt_ids.append(y.slice_axis(axis=-\u001b[34m1\u001b[39;49;00m, begin=\u001b[34m4\u001b[39;49;00m, end=\u001b[34m5\u001b[39;49;00m))\r\n",
      "            gt_bboxes.append(y.slice_axis(axis=-\u001b[34m1\u001b[39;49;00m, begin=\u001b[34m0\u001b[39;49;00m, end=\u001b[34m4\u001b[39;49;00m))\r\n",
      "            gt_difficults.append(y.slice_axis(axis=-\u001b[34m1\u001b[39;49;00m, begin=\u001b[34m5\u001b[39;49;00m, end=\u001b[34m6\u001b[39;49;00m) \u001b[34mif\u001b[39;49;00m y.shape[-\u001b[34m1\u001b[39;49;00m] > \u001b[34m5\u001b[39;49;00m \u001b[34melse\u001b[39;49;00m \u001b[36mNone\u001b[39;49;00m)\r\n",
      "\r\n",
      "        \u001b[37m# update metric\u001b[39;49;00m\r\n",
      "        eval_metric.update(det_bboxes, det_ids, det_scores, gt_bboxes, gt_ids, gt_difficults)\r\n",
      "    \u001b[34mreturn\u001b[39;49;00m eval_metric.get()\r\n",
      "\r\n",
      "\u001b[34mdef\u001b[39;49;00m \u001b[32mtrain\u001b[39;49;00m(net, train_data, val_data, eval_metric, ctx, args):\r\n",
      "    \u001b[33m\"\"\"Training pipeline\"\"\"\u001b[39;49;00m\r\n",
      "    net.collect_params().reset_ctx(ctx)\r\n",
      "    \u001b[34mif\u001b[39;49;00m args.no_wd:\r\n",
      "        \u001b[34mfor\u001b[39;49;00m k, v \u001b[35min\u001b[39;49;00m net.collect_params(\u001b[33m'\u001b[39;49;00m\u001b[33m.*beta|.*gamma|.*bias\u001b[39;49;00m\u001b[33m'\u001b[39;49;00m).items():\r\n",
      "            v.wd_mult = \u001b[34m0.0\u001b[39;49;00m\r\n",
      "\r\n",
      "    \u001b[34mif\u001b[39;49;00m args.label_smooth:\r\n",
      "        net._target_generator._label_smooth = \u001b[36mTrue\u001b[39;49;00m\r\n",
      "\r\n",
      "    \u001b[34mif\u001b[39;49;00m args.lr_decay_period > \u001b[34m0\u001b[39;49;00m:\r\n",
      "        lr_decay_epoch = \u001b[36mlist\u001b[39;49;00m(\u001b[36mrange\u001b[39;49;00m(args.lr_decay_period, args.epochs, args.lr_decay_period))\r\n",
      "    \u001b[34melse\u001b[39;49;00m:\r\n",
      "        lr_decay_epoch = [\u001b[36mint\u001b[39;49;00m(i) \u001b[34mfor\u001b[39;49;00m i \u001b[35min\u001b[39;49;00m args.lr_decay_epoch.split(\u001b[33m'\u001b[39;49;00m\u001b[33m,\u001b[39;49;00m\u001b[33m'\u001b[39;49;00m)]\r\n",
      "    lr_decay_epoch = [e - args.warmup_epochs \u001b[34mfor\u001b[39;49;00m e \u001b[35min\u001b[39;49;00m lr_decay_epoch]\r\n",
      "    num_batches = args.num_samples // args.batch_size\r\n",
      "    lr_scheduler = LRSequential([\r\n",
      "        LRScheduler(\u001b[33m'\u001b[39;49;00m\u001b[33mlinear\u001b[39;49;00m\u001b[33m'\u001b[39;49;00m, base_lr=\u001b[34m0\u001b[39;49;00m, target_lr=args.lr,\r\n",
      "                    nepochs=args.warmup_epochs, iters_per_epoch=num_batches),\r\n",
      "        LRScheduler(args.lr_mode, base_lr=args.lr,\r\n",
      "                    nepochs=args.epochs - args.warmup_epochs,\r\n",
      "                    iters_per_epoch=num_batches,\r\n",
      "                    step_epoch=lr_decay_epoch,\r\n",
      "                    step_factor=args.lr_decay, power=\u001b[34m2\u001b[39;49;00m),\r\n",
      "    ])\r\n",
      "\r\n",
      "    \u001b[34mif\u001b[39;49;00m args.opt == \u001b[33m'\u001b[39;49;00m\u001b[33msgd\u001b[39;49;00m\u001b[33m'\u001b[39;49;00m :\r\n",
      "        trainer = gluon.Trainer(\r\n",
      "            net.collect_params(), \u001b[33m'\u001b[39;49;00m\u001b[33msgd\u001b[39;49;00m\u001b[33m'\u001b[39;49;00m,\r\n",
      "            {\u001b[33m'\u001b[39;49;00m\u001b[33mwd\u001b[39;49;00m\u001b[33m'\u001b[39;49;00m: args.wd, \u001b[33m'\u001b[39;49;00m\u001b[33mmomentum\u001b[39;49;00m\u001b[33m'\u001b[39;49;00m: args.momentum, \u001b[33m'\u001b[39;49;00m\u001b[33mlr_scheduler\u001b[39;49;00m\u001b[33m'\u001b[39;49;00m: lr_scheduler},\r\n",
      "            kvstore=\u001b[33m'\u001b[39;49;00m\u001b[33mlocal\u001b[39;49;00m\u001b[33m'\u001b[39;49;00m)\r\n",
      "    \u001b[34melif\u001b[39;49;00m args.opt == \u001b[33m'\u001b[39;49;00m\u001b[33madam\u001b[39;49;00m\u001b[33m'\u001b[39;49;00m :\r\n",
      "        trainer = gluon.Trainer(\r\n",
      "            net.collect_params(), \u001b[33m'\u001b[39;49;00m\u001b[33madam\u001b[39;49;00m\u001b[33m'\u001b[39;49;00m,\r\n",
      "            {\u001b[33m'\u001b[39;49;00m\u001b[33mlearning_rate\u001b[39;49;00m\u001b[33m'\u001b[39;49;00m: args.lr, \u001b[33m'\u001b[39;49;00m\u001b[33mwd\u001b[39;49;00m\u001b[33m'\u001b[39;49;00m: args.wd})\r\n",
      "    \u001b[34melse\u001b[39;49;00m :\r\n",
      "        \u001b[34mraise\u001b[39;49;00m \u001b[36mNotImplementedError\u001b[39;49;00m(\u001b[33m'\u001b[39;49;00m\u001b[33mOptimizer option: {} not implemented.\u001b[39;49;00m\u001b[33m'\u001b[39;49;00m.format(args.opt))\r\n",
      "\r\n",
      "    \u001b[37m# targets\u001b[39;49;00m\r\n",
      "    sigmoid_ce = gluon.loss.SigmoidBinaryCrossEntropyLoss(from_sigmoid=\u001b[36mFalse\u001b[39;49;00m)\r\n",
      "    l1_loss = gluon.loss.L1Loss()\r\n",
      "\r\n",
      "    \u001b[37m# metrics\u001b[39;49;00m\r\n",
      "    obj_metrics = mx.metric.Loss(\u001b[33m'\u001b[39;49;00m\u001b[33mObjLoss\u001b[39;49;00m\u001b[33m'\u001b[39;49;00m)\r\n",
      "    center_metrics = mx.metric.Loss(\u001b[33m'\u001b[39;49;00m\u001b[33mBoxCenterLoss\u001b[39;49;00m\u001b[33m'\u001b[39;49;00m)\r\n",
      "    scale_metrics = mx.metric.Loss(\u001b[33m'\u001b[39;49;00m\u001b[33mBoxScaleLoss\u001b[39;49;00m\u001b[33m'\u001b[39;49;00m)\r\n",
      "    cls_metrics = mx.metric.Loss(\u001b[33m'\u001b[39;49;00m\u001b[33mClassLoss\u001b[39;49;00m\u001b[33m'\u001b[39;49;00m)\r\n",
      "\r\n",
      "    \u001b[37m# set up logger\u001b[39;49;00m\r\n",
      "    logging.basicConfig()\r\n",
      "    logger = logging.getLogger()\r\n",
      "    logger.setLevel(logging.INFO)\r\n",
      "    log_file_path = args.save_prefix + \u001b[33m'\u001b[39;49;00m\u001b[33m_train.log\u001b[39;49;00m\u001b[33m'\u001b[39;49;00m\r\n",
      "    log_dir = os.path.dirname(log_file_path)\r\n",
      "    \u001b[34mif\u001b[39;49;00m log_dir \u001b[35mand\u001b[39;49;00m \u001b[35mnot\u001b[39;49;00m os.path.exists(log_dir):\r\n",
      "        os.makedirs(log_dir)\r\n",
      "    fh = logging.FileHandler(log_file_path)\r\n",
      "    logger.addHandler(fh)\r\n",
      "    logger.info(args)\r\n",
      "    logger.info(\u001b[33m'\u001b[39;49;00m\u001b[33mStart training from [Epoch {}]\u001b[39;49;00m\u001b[33m'\u001b[39;49;00m.format(args.start_epoch))\r\n",
      "    best_map = [\u001b[34m0\u001b[39;49;00m]\r\n",
      "    \u001b[34mfor\u001b[39;49;00m epoch \u001b[35min\u001b[39;49;00m \u001b[36mrange\u001b[39;49;00m(args.start_epoch, args.epochs):\r\n",
      "        \u001b[34mif\u001b[39;49;00m args.mixup:\r\n",
      "            \u001b[37m# TODO(zhreshold): more elegant way to control mixup during runtime\u001b[39;49;00m\r\n",
      "            \u001b[34mtry\u001b[39;49;00m:\r\n",
      "                train_data._dataset.set_mixup(np.random.beta, \u001b[34m1.5\u001b[39;49;00m, \u001b[34m1.5\u001b[39;49;00m)\r\n",
      "            \u001b[34mexcept\u001b[39;49;00m \u001b[36mAttributeError\u001b[39;49;00m:\r\n",
      "                train_data._dataset._data.set_mixup(np.random.beta, \u001b[34m1.5\u001b[39;49;00m, \u001b[34m1.5\u001b[39;49;00m)\r\n",
      "            \u001b[34mif\u001b[39;49;00m epoch >= args.epochs - args.no_mixup_epochs:\r\n",
      "                \u001b[34mtry\u001b[39;49;00m:\r\n",
      "                    train_data._dataset.set_mixup(\u001b[36mNone\u001b[39;49;00m)\r\n",
      "                \u001b[34mexcept\u001b[39;49;00m \u001b[36mAttributeError\u001b[39;49;00m:\r\n",
      "                    train_data._dataset._data.set_mixup(\u001b[36mNone\u001b[39;49;00m)\r\n",
      "\r\n",
      "        tic = time.time()\r\n",
      "        btic = time.time()\r\n",
      "        mx.nd.waitall()\r\n",
      "        net.hybridize()\r\n",
      "        \u001b[34mfor\u001b[39;49;00m i, batch \u001b[35min\u001b[39;49;00m \u001b[36menumerate\u001b[39;49;00m(train_data):\r\n",
      "            batch_size = batch[\u001b[34m0\u001b[39;49;00m].shape[\u001b[34m0\u001b[39;49;00m]\r\n",
      "            data = gluon.utils.split_and_load(batch[\u001b[34m0\u001b[39;49;00m], ctx_list=ctx, batch_axis=\u001b[34m0\u001b[39;49;00m)\r\n",
      "            \u001b[37m# objectness, center_targets, scale_targets, weights, class_targets\u001b[39;49;00m\r\n",
      "            fixed_targets = [gluon.utils.split_and_load(batch[it], ctx_list=ctx, batch_axis=\u001b[34m0\u001b[39;49;00m) \u001b[34mfor\u001b[39;49;00m it \u001b[35min\u001b[39;49;00m \u001b[36mrange\u001b[39;49;00m(\u001b[34m1\u001b[39;49;00m, \u001b[34m6\u001b[39;49;00m)]\r\n",
      "            gt_boxes = gluon.utils.split_and_load(batch[\u001b[34m6\u001b[39;49;00m], ctx_list=ctx, batch_axis=\u001b[34m0\u001b[39;49;00m)\r\n",
      "            sum_losses = []\r\n",
      "            obj_losses = []\r\n",
      "            center_losses = []\r\n",
      "            scale_losses = []\r\n",
      "            cls_losses = []\r\n",
      "            \u001b[34mwith\u001b[39;49;00m autograd.record():\r\n",
      "                \u001b[34mfor\u001b[39;49;00m ix, x \u001b[35min\u001b[39;49;00m \u001b[36menumerate\u001b[39;49;00m(data):\r\n",
      "                    obj_loss, center_loss, scale_loss, cls_loss = net(x, gt_boxes[ix], *[ft[ix] \u001b[34mfor\u001b[39;49;00m ft \u001b[35min\u001b[39;49;00m fixed_targets])\r\n",
      "                    sum_losses.append(obj_loss + center_loss + scale_loss + cls_loss)\r\n",
      "                    obj_losses.append(obj_loss)\r\n",
      "                    center_losses.append(center_loss)\r\n",
      "                    scale_losses.append(scale_loss)\r\n",
      "                    cls_losses.append(cls_loss)\r\n",
      "                autograd.backward(sum_losses)\r\n",
      "            trainer.step(batch_size)\r\n",
      "            obj_metrics.update(\u001b[34m0\u001b[39;49;00m, obj_losses)\r\n",
      "            center_metrics.update(\u001b[34m0\u001b[39;49;00m, center_losses)\r\n",
      "            scale_metrics.update(\u001b[34m0\u001b[39;49;00m, scale_losses)\r\n",
      "            cls_metrics.update(\u001b[34m0\u001b[39;49;00m, cls_losses)\r\n",
      "            \u001b[34mif\u001b[39;49;00m args.log_interval \u001b[35mand\u001b[39;49;00m \u001b[35mnot\u001b[39;49;00m (i + \u001b[34m1\u001b[39;49;00m) % args.log_interval:\r\n",
      "                name1, loss1 = obj_metrics.get()\r\n",
      "                name2, loss2 = center_metrics.get()\r\n",
      "                name3, loss3 = scale_metrics.get()\r\n",
      "                name4, loss4 = cls_metrics.get()\r\n",
      "                logger.info(\u001b[33m'\u001b[39;49;00m\u001b[33m[Epoch {}][Batch {}], LR: {:.2E}, Speed: {:.3f} samples/sec, {}={:.3f}, {}={:.3f}, {}={:.3f}, {}={:.3f}\u001b[39;49;00m\u001b[33m'\u001b[39;49;00m.format(\r\n",
      "                    epoch, i, trainer.learning_rate, batch_size/(time.time()-btic), name1, loss1, name2, loss2, name3, loss3, name4, loss4))\r\n",
      "            btic = time.time()\r\n",
      "\r\n",
      "        name1, loss1 = obj_metrics.get()\r\n",
      "        name2, loss2 = center_metrics.get()\r\n",
      "        name3, loss3 = scale_metrics.get()\r\n",
      "        name4, loss4 = cls_metrics.get()\r\n",
      "\r\n",
      "        EVAL_METRICS[name1] = loss1\r\n",
      "        EVAL_METRICS[name2] = loss2\r\n",
      "        EVAL_METRICS[name3] = loss3\r\n",
      "        EVAL_METRICS[name4] = loss4\r\n",
      "\r\n",
      "        logger.info(\u001b[33m'\u001b[39;49;00m\u001b[33m[Epoch {}] Training cost: {:.3f}, {}={:.3f}, {}={:.3f}, {}={:.3f}, {}={:.3f}\u001b[39;49;00m\u001b[33m'\u001b[39;49;00m.format(\r\n",
      "            epoch, (time.time()-tic), name1, loss1, name2, loss2, name3, loss3, name4, loss4))\r\n",
      "        \u001b[34mif\u001b[39;49;00m \u001b[35mnot\u001b[39;49;00m (epoch + \u001b[34m1\u001b[39;49;00m) % args.val_interval:\r\n",
      "            \u001b[37m# consider reduce the frequency of validation to save time\u001b[39;49;00m\r\n",
      "            map_name, mean_ap = validate(net, val_data, ctx, eval_metric, args.obj_metric)\r\n",
      "            EVAL_METRICS[\u001b[33m'\u001b[39;49;00m\u001b[33mmAP\u001b[39;49;00m\u001b[33m'\u001b[39;49;00m] = mean_ap[\u001b[36mlen\u001b[39;49;00m(mean_ap)-\u001b[34m1\u001b[39;49;00m]\r\n",
      "\r\n",
      "            val_msg = \u001b[33m'\u001b[39;49;00m\u001b[33m\\n\u001b[39;49;00m\u001b[33m'\u001b[39;49;00m.join([\u001b[33m'\u001b[39;49;00m\u001b[33m{}={}\u001b[39;49;00m\u001b[33m'\u001b[39;49;00m.format(k, v) \u001b[34mfor\u001b[39;49;00m k, v \u001b[35min\u001b[39;49;00m \u001b[36mzip\u001b[39;49;00m(map_name, mean_ap)])\r\n",
      "            logger.info(\u001b[33m'\u001b[39;49;00m\u001b[33m[Epoch {}] Validation: \u001b[39;49;00m\u001b[33m\\n\u001b[39;49;00m\u001b[33m{}\u001b[39;49;00m\u001b[33m'\u001b[39;49;00m.format(epoch, val_msg))\r\n",
      "            logger.info(\u001b[33m'\u001b[39;49;00m\u001b[33mTarget Objective: {} = {:.8f}\u001b[39;49;00m\u001b[33m'\u001b[39;49;00m.format(args.obj_metric, EVAL_METRICS[args.obj_metric]))\r\n",
      "            current_map = \u001b[36mfloat\u001b[39;49;00m(mean_ap[-\u001b[34m1\u001b[39;49;00m])\r\n",
      "        \u001b[34melse\u001b[39;49;00m:\r\n",
      "            current_map = \u001b[34m0.\u001b[39;49;00m\r\n",
      "        save_params(net, best_map, current_map, epoch, args.save_interval, args.save_prefix, args.model_dir)\r\n",
      "        \r\n",
      "\u001b[34mif\u001b[39;49;00m \u001b[31m__name__\u001b[39;49;00m == \u001b[33m'\u001b[39;49;00m\u001b[33m__main__\u001b[39;49;00m\u001b[33m'\u001b[39;49;00m:\r\n",
      "    \r\n",
      "    args = parse_args()\r\n",
      "    \r\n",
      "    \u001b[37m# fix seed for mxnet, numpy and python builtin random generator.\u001b[39;49;00m\r\n",
      "    gutils.random.seed(args.seed)\r\n",
      "\r\n",
      "    \u001b[37m# training contexts\u001b[39;49;00m\r\n",
      "    \u001b[34mtry\u001b[39;49;00m:\r\n",
      "        a = mx.nd.zeros((\u001b[34m1\u001b[39;49;00m,), ctx=mx.gpu(\u001b[34m0\u001b[39;49;00m))\r\n",
      "        ctx = [mx.gpu(\u001b[36mint\u001b[39;49;00m(i)) \u001b[34mfor\u001b[39;49;00m i \u001b[35min\u001b[39;49;00m args.gpus.split(\u001b[33m'\u001b[39;49;00m\u001b[33m,\u001b[39;49;00m\u001b[33m'\u001b[39;49;00m) \u001b[34mif\u001b[39;49;00m i.strip()]\r\n",
      "        \u001b[37m#print('GPU device is available')\u001b[39;49;00m\r\n",
      "    \u001b[34mexcept\u001b[39;49;00m:\r\n",
      "        ctx = [mx.cpu()]\r\n",
      "        \u001b[37m#print('Using CPU. GPU device was not detected')\u001b[39;49;00m\r\n",
      "\r\n",
      "    \u001b[37m# load data\u001b[39;49;00m\r\n",
      "    train_dataset, val_dataset, classes = load_data()\r\n",
      "    \u001b[37m#print('copying classes.cv from {} to {}.'.format(CLASSES_FILE,os.path.join(MODEL_DIR, 'classes.csv')))\u001b[39;49;00m\r\n",
      "    \u001b[37m#shutil.copyfile(CLASSES_FILE, os.path.join(MODEL_DIR, 'classes.params'))\u001b[39;49;00m\r\n",
      "\r\n",
      "    \u001b[37m# network\u001b[39;49;00m\r\n",
      "    net_name = \u001b[33m'\u001b[39;49;00m\u001b[33m_\u001b[39;49;00m\u001b[33m'\u001b[39;49;00m.join((\u001b[33m'\u001b[39;49;00m\u001b[33myolo3\u001b[39;49;00m\u001b[33m'\u001b[39;49;00m, args.network, \u001b[33m'\u001b[39;49;00m\u001b[33mcustom\u001b[39;49;00m\u001b[33m'\u001b[39;49;00m))\r\n",
      "    args.save_prefix += net_name\r\n",
      "    \r\n",
      "   \u001b[37m# MODEL_INFO = {\"base\":net_name, \"weights\":'{:s}_best.params'.format(net_name)}\u001b[39;49;00m\r\n",
      "   \u001b[37m# with open (os.path.join(MODEL_DIR,'model_info.params'),'w') as model_meta :\u001b[39;49;00m\r\n",
      "   \u001b[37m#     json.dump(MODEL_INFO,model_meta)\u001b[39;49;00m\r\n",
      "        \r\n",
      "    \r\n",
      "    \u001b[37m# use sync bn if specified\u001b[39;49;00m\r\n",
      "    TRANSFER = args.pre_trained_weights\r\n",
      "    PRETRAINED_BASE= \u001b[36mTrue\u001b[39;49;00m\r\n",
      "    \u001b[34mif\u001b[39;49;00m args.pre_trained_weights == \u001b[33m'\u001b[39;49;00m\u001b[33mNONE\u001b[39;49;00m\u001b[33m'\u001b[39;49;00m :\r\n",
      "        TRANSFER = \u001b[36mNone\u001b[39;49;00m\r\n",
      "        PRETRAINED_BASE= \u001b[36mFalse\u001b[39;49;00m\r\n",
      "        \u001b[34mprint\u001b[39;49;00m(\u001b[33m'\u001b[39;49;00m\u001b[33mNo pre-trained weights\u001b[39;49;00m\u001b[33m'\u001b[39;49;00m)\r\n",
      "\r\n",
      "    \u001b[34mif\u001b[39;49;00m args.syncbn \u001b[35mand\u001b[39;49;00m \u001b[36mlen\u001b[39;49;00m(ctx) > \u001b[34m1\u001b[39;49;00m:\r\n",
      "        net = get_model(net_name, pretrained_base=PRETRAINED_BASE, \r\n",
      "                        norm_layer=gluon.contrib.nn.SyncBatchNorm,\r\n",
      "                        transfer = TRANSFER, classes= classes,\r\n",
      "                        norm_kwargs={\u001b[33m'\u001b[39;49;00m\u001b[33mnum_devices\u001b[39;49;00m\u001b[33m'\u001b[39;49;00m: \u001b[36mlen\u001b[39;49;00m(ctx)})\r\n",
      "        async_net = get_model(net_name, pretrained_base=\u001b[36mFalse\u001b[39;49;00m, classes= classes)  \u001b[37m# used by cpu worker\u001b[39;49;00m\r\n",
      "    \u001b[34melse\u001b[39;49;00m:\r\n",
      "        net = get_model(net_name, pretrained_base=PRETRAINED_BASE, transfer = TRANSFER, classes = classes)\r\n",
      "        async_net = net\r\n",
      "    \u001b[34mif\u001b[39;49;00m args.resume.strip():\r\n",
      "        MODEL_CHECKPOINT_WEIGHTS = args.resume.strip()\r\n",
      "        \u001b[34mprint\u001b[39;49;00m(MODEL_CHECKPOINT_WEIGHTS)\r\n",
      "        net.load_parameters(MODEL_CHECKPOINT_WEIGHTS)\r\n",
      "        async_net.load_parameters(MODEL_CHECKPOINT_WEIGHTS)\r\n",
      "    \u001b[34melse\u001b[39;49;00m:\r\n",
      "        \u001b[34mwith\u001b[39;49;00m warnings.catch_warnings(record=\u001b[36mTrue\u001b[39;49;00m) \u001b[34mas\u001b[39;49;00m w:\r\n",
      "            warnings.simplefilter(\u001b[33m\"\u001b[39;49;00m\u001b[33malways\u001b[39;49;00m\u001b[33m\"\u001b[39;49;00m)\r\n",
      "            net.initialize()\r\n",
      "            async_net.initialize()\r\n",
      "\r\n",
      "    \u001b[37m# initialize loaders\u001b[39;49;00m\r\n",
      "    train_data, val_data = get_dataloader(\r\n",
      "        async_net, train_dataset, val_dataset, args.data_shape, args.batch_size, args.num_workers, args)\r\n",
      "\r\n",
      "    \u001b[37m# set metrics\u001b[39;49;00m\r\n",
      "    eval_metric = get_eval_metric(args, classes)\r\n",
      "\r\n",
      "    \u001b[37m# training\u001b[39;49;00m\r\n",
      "    train(net, train_data, val_data, eval_metric, ctx, args)\r\n",
      "    \r\n",
      "  \r\n",
      "    \u001b[34mprint\u001b[39;49;00m(\u001b[33m'\u001b[39;49;00m\u001b[33mattempting walk in model_dir..\u001b[39;49;00m\u001b[33m'\u001b[39;49;00m)\r\n",
      "    \u001b[34mfor\u001b[39;49;00m (dirpath, dirnames, filenames) \u001b[35min\u001b[39;49;00m walk(MODEL_DIR):\r\n",
      "        \u001b[34mfor\u001b[39;49;00m f \u001b[35min\u001b[39;49;00m filenames :\r\n",
      "            \u001b[34mprint\u001b[39;49;00m(f)\r\n",
      "            \r\n"
     ]
    }
   ],
   "source": [
    "!pygmentize ../scripts/gluoncv_yolo3-train.py"
   ]
  },
  {
   "cell_type": "markdown",
   "metadata": {},
   "source": [
    "The command below runs the above script on this notebook. The script is only configure to run for one epoch because it can take over 5 minutes to run a single epoch on CPU.\n",
    "\n",
    "The YOLOv3 script has been configured to use mobilenet1.0 (versus darknet), and will be initialized with weights pretrained on the VOC dataset.\n",
    "\n",
    "It's **optional** to run this script locally."
   ]
  },
  {
   "cell_type": "code",
   "execution_count": 10,
   "metadata": {
    "scrolled": true
   },
   "outputs": [
    {
     "name": "stdout",
     "output_type": "stream",
     "text": [
      "python: can't open file '../scripts/gluoncv_yolo3-sagemaker.py': [Errno 2] No such file or directory\r\n"
     ]
    }
   ],
   "source": [
    "!mkdir ./models\n",
    "!python ../scripts/gluoncv_yolo3-train.py \\\n",
    "--model-dir ./models \\\n",
    "--train ./data/train \\\n",
    "--test ./data/test \\\n",
    "--lr 0.001 \\\n",
    "--opt adam \\\n",
    "--local True \\\n",
    "--pre-trained-weights VOC \\\n",
    "--network mobilenet1.0 --syncbn True --batch-size 16 --epochs 1"
   ]
  },
  {
   "cell_type": "code",
   "execution_count": 11,
   "metadata": {},
   "outputs": [
    {
     "name": "stdout",
     "output_type": "stream",
     "text": [
      "Set requirements.txt for GPU:\n",
      "-----------------------------------\n",
      "pandas\n",
      "mxnet-cu90mkl>=1.4.0\n",
      "gluoncv\n",
      "-----------------------------------\n",
      "You have selected ml.p3.2xlarge, which will utilize GPU.\n",
      "Recommended GPU dependent configurations: {'gpu_devices': '0', 'batch_size_range': [13, 16]}\n"
     ]
    }
   ],
   "source": [
    "import shutil\n",
    "\n",
    "INSTANCE_GPUS = {\n",
    "    'ml.p3.2xlarge':1,\n",
    "    'ml.p3.8xlarge':4,\n",
    "    'ml.c5.4xlarge':0,\n",
    "    'ml.c5.xlarge':0\n",
    "}\n",
    "\n",
    "def set_requirements_text(gpu_train=True) :\n",
    "    \n",
    "    if gpu_train :\n",
    "        shutil.copy('../scripts/requirements-gpu.txt','../scripts/requirements.txt')\n",
    "    else :\n",
    "        shutil.copy('../scripts/requirements-cpu.txt','../scripts/requirements.txt')\n",
    "\n",
    "    !pygmentize ../scripts/requirements.txt\n",
    "\n",
    "def environment_device_config(instance_selection) :\n",
    "    \n",
    "    GPU_TRAIN = INSTANCE_GPUS[instance_selection] > 0\n",
    "\n",
    "    gpu_devices = '0'\n",
    "    for i in range(1,INSTANCE_GPUS[instance_selection]) :\n",
    "        gpu_devices+= \",\"+str(i)\n",
    "\n",
    "    print('Set requirements.txt for {}:'.format('GPU' if GPU_TRAIN else 'CPU')) \n",
    "    print('-----------------------------------')\n",
    "    set_requirements_text(GPU_TRAIN)\n",
    "    print('-----------------------------------')\n",
    "    \n",
    "    config={\n",
    "        \"gpu_devices\":gpu_devices,\n",
    "        \"batch_size_range\": [13*INSTANCE_GPUS[instance_selection] if GPU_TRAIN else 16,\n",
    "                          16*INSTANCE_GPUS[instance_selection] if GPU_TRAIN else 32]\n",
    "    }\n",
    "    \n",
    "    print('You have selected {}, which will utilize {}.'.format(instance_selection, 'GPU' if GPU_TRAIN else 'CPU'))\n",
    "    print('Recommended GPU dependent configurations: {}'.format(config))\n",
    "    \n",
    "    return config\n",
    "      \n",
    "config = environment_device_config('ml.p3.2xlarge')"
   ]
  },
  {
   "cell_type": "code",
   "execution_count": 12,
   "metadata": {},
   "outputs": [
    {
     "name": "stdout",
     "output_type": "stream",
     "text": [
      "{'optimizer': 'adam', 'lr': 0.0001, 'epochs': 1, 'batch-size': 16, 'network': 'mobilenet1.0', 'syncbn': True, 'pre-trained-weights': 'VOC'}\n"
     ]
    }
   ],
   "source": [
    "params = {\n",
    "    'optimizer': 'adam',\n",
    "    'lr': 0.0001,\n",
    "    'epochs': 1,\n",
    "    'batch-size': config['batch_size_range'][1],\n",
    "    'network':'mobilenet1.0',\n",
    "    'syncbn':True,\n",
    "    'pre-trained-weights':\"VOC\"} \n",
    "print(params)"
   ]
  },
  {
   "cell_type": "code",
   "execution_count": 8,
   "metadata": {},
   "outputs": [
    {
     "name": "stdout",
     "output_type": "stream",
     "text": [
      "Data set was downloaded in 1.6072466373443604 seconds.\n"
     ]
    }
   ],
   "source": [
    "LOCAL_TRAINING_DATA_DIR = os.path.join(os.getcwd(),'data/train')\n",
    "LOCAL_TEST_DATA_DIR = os.path.join(os.getcwd(),'data/test')\n",
    "os.system('mkdir {}'.format(LOCAL_TRAINING_DATA_DIR))\n",
    "os.system('mkdir {}'.format(LOCAL_TEST_DATA_DIR))\n",
    "\n",
    "start=time.time()\n",
    "os.system('aws s3 sync {} {}'.format(SAMPLE_TRAINING_DATASET,LOCAL_TRAINING_DATA_DIR))\n",
    "os.system('aws s3 sync {} {}'.format(SAMPLE_TEST_DATASET,LOCAL_TEST_DATA_DIR))\n",
    "end=time.time()\n",
    "\n",
    "print('Data set was downloaded in {} seconds.'.format(end-start))"
   ]
  },
  {
   "cell_type": "code",
   "execution_count": 13,
   "metadata": {},
   "outputs": [],
   "source": [
    "from sagemaker.mxnet import MXNet\n",
    "\n",
    "BASE_JOB_NAME ='dtong-yolo3-local-training'\n",
    "#BASE_JOB_NAME='<<NAME YOUR TRAINING JOB>>'\n",
    "SOURCE_DIR = '../scripts'\n",
    "\n",
    "local_estimator = MXNet(entry_point='gluoncv_yolo3-sagemaker.py',\n",
    "                       role=role,\n",
    "                       source_dir=SOURCE_DIR,\n",
    "                       framework_version='1.3.0',\n",
    "                       py_version='py3',\n",
    "                       train_instance_count=1,\n",
    "                       train_instance_type='local',\n",
    "                       base_job_name=BASE_JOB_NAME,\n",
    "                       hyperparameters=params)"
   ]
  },
  {
   "cell_type": "code",
   "execution_count": 26,
   "metadata": {
    "scrolled": true
   },
   "outputs": [
    {
     "name": "stdout",
     "output_type": "stream",
     "text": [
      "Creating tmp2vyc9obw_algo-1-c3yh6_1 ... \n",
      "\u001b[1BAttaching to tmp2vyc9obw_algo-1-c3yh6_12mdone\u001b[0m\n",
      "\u001b[36malgo-1-c3yh6_1  |\u001b[0m 2019-05-16 17:08:37,956 sagemaker-containers INFO     Imported framework sagemaker_mxnet_container.training\n",
      "\u001b[36malgo-1-c3yh6_1  |\u001b[0m 2019-05-16 17:08:37,959 sagemaker-containers INFO     No GPUs detected (normal if no gpus installed)\n",
      "\u001b[36malgo-1-c3yh6_1  |\u001b[0m 2019-05-16 17:08:37,973 sagemaker_mxnet_container.training INFO     MXNet training environment: {'SM_CHANNELS': '[\"test\",\"train\"]', 'SM_USER_ARGS': '[\"--batch-size\",\"16\",\"--epochs\",\"1\",\"--lr\",\"0.0001\",\"--network\",\"mobilenet1.0\",\"--optimizer\",\"adam\",\"--pre-trained-weights\",\"VOC\",\"--syncbn\",\"True\"]', 'SM_INPUT_CONFIG_DIR': '/opt/ml/input/config', 'SM_MODEL_DIR': '/opt/ml/model', 'SM_RESOURCE_CONFIG': '{\"current_host\":\"algo-1-c3yh6\",\"hosts\":[\"algo-1-c3yh6\"]}', 'SM_NUM_GPUS': '0', 'SM_LOG_LEVEL': '20', 'SM_HP_LR': '0.0001', 'SM_FRAMEWORK_PARAMS': '{}', 'SM_OUTPUT_DATA_DIR': '/opt/ml/output/data', 'SM_HP_EPOCHS': '1', 'SM_HP_OPTIMIZER': 'adam', 'SM_OUTPUT_DIR': '/opt/ml/output', 'SM_HP_PRE-TRAINED-WEIGHTS': 'VOC', 'SM_MODULE_DIR': 's3://sagemaker-us-west-2-803235869972/dtong-yolo3-local-training-2019-05-16-17-08-35-524/source/sourcedir.tar.gz', 'SM_CHANNEL_TEST': '/opt/ml/input/data/test', 'SM_INPUT_DIR': '/opt/ml/input', 'SM_MODULE_NAME': 'gluoncv_yolo3-sagemaker', 'SM_FRAMEWORK_MODULE': 'sagemaker_mxnet_container.training:main', 'SM_TRAINING_ENV': '{\"additional_framework_parameters\":{},\"channel_input_dirs\":{\"test\":\"/opt/ml/input/data/test\",\"train\":\"/opt/ml/input/data/train\"},\"current_host\":\"algo-1-c3yh6\",\"framework_module\":\"sagemaker_mxnet_container.training:main\",\"hosts\":[\"algo-1-c3yh6\"],\"hyperparameters\":{\"batch-size\":16,\"epochs\":1,\"lr\":0.0001,\"network\":\"mobilenet1.0\",\"optimizer\":\"adam\",\"pre-trained-weights\":\"VOC\",\"syncbn\":true},\"input_config_dir\":\"/opt/ml/input/config\",\"input_data_config\":{\"test\":{\"TrainingInputMode\":\"File\"},\"train\":{\"TrainingInputMode\":\"File\"}},\"input_dir\":\"/opt/ml/input\",\"is_master\":true,\"job_name\":\"dtong-yolo3-local-training-2019-05-16-17-08-35-524\",\"log_level\":20,\"master_hostname\":\"algo-1-c3yh6\",\"model_dir\":\"/opt/ml/model\",\"module_dir\":\"s3://sagemaker-us-west-2-803235869972/dtong-yolo3-local-training-2019-05-16-17-08-35-524/source/sourcedir.tar.gz\",\"module_name\":\"gluoncv_yolo3-sagemaker\",\"network_interface_name\":\"eth0\",\"num_cpus\":8,\"num_gpus\":0,\"output_data_dir\":\"/opt/ml/output/data\",\"output_dir\":\"/opt/ml/output\",\"output_intermediate_dir\":\"/opt/ml/output/intermediate\",\"resource_config\":{\"current_host\":\"algo-1-c3yh6\",\"hosts\":[\"algo-1-c3yh6\"]},\"user_entry_point\":\"gluoncv_yolo3-sagemaker.py\"}', 'SM_HP_BATCH-SIZE': '16', 'SM_OUTPUT_INTERMEDIATE_DIR': '/opt/ml/output/intermediate', 'SM_HP_NETWORK': 'mobilenet1.0', 'SM_CHANNEL_TRAIN': '/opt/ml/input/data/train', 'SM_NETWORK_INTERFACE_NAME': 'eth0', 'SM_HOSTS': '[\"algo-1-c3yh6\"]', 'SM_CURRENT_HOST': 'algo-1-c3yh6', 'SM_USER_ENTRY_POINT': 'gluoncv_yolo3-sagemaker.py', 'SM_NUM_CPUS': '8', 'SM_HP_SYNCBN': 'true', 'SM_INPUT_DATA_CONFIG': '{\"test\":{\"TrainingInputMode\":\"File\"},\"train\":{\"TrainingInputMode\":\"File\"}}', 'SM_HPS': '{\"batch-size\":16,\"epochs\":1,\"lr\":0.0001,\"network\":\"mobilenet1.0\",\"optimizer\":\"adam\",\"pre-trained-weights\":\"VOC\",\"syncbn\":true}'}\n",
      "\u001b[36malgo-1-c3yh6_1  |\u001b[0m 2019-05-16 17:08:38,086 sagemaker-containers INFO     Module gluoncv_yolo3-sagemaker does not provide a setup.py. \n",
      "\u001b[36malgo-1-c3yh6_1  |\u001b[0m Generating setup.py\n",
      "\u001b[36malgo-1-c3yh6_1  |\u001b[0m 2019-05-16 17:08:38,086 sagemaker-containers INFO     Generating setup.cfg\n",
      "\u001b[36malgo-1-c3yh6_1  |\u001b[0m 2019-05-16 17:08:38,086 sagemaker-containers INFO     Generating MANIFEST.in\n",
      "\u001b[36malgo-1-c3yh6_1  |\u001b[0m 2019-05-16 17:08:38,086 sagemaker-containers INFO     Installing module with the following command:\n",
      "\u001b[36malgo-1-c3yh6_1  |\u001b[0m /usr/bin/python -m pip install -U . -r requirements.txt\n",
      "\u001b[36malgo-1-c3yh6_1  |\u001b[0m Processing /opt/ml/code\n",
      "\u001b[36malgo-1-c3yh6_1  |\u001b[0m Collecting pandas (from -r requirements.txt (line 1))\n",
      "\u001b[36malgo-1-c3yh6_1  |\u001b[0m \u001b[?25l  Downloading https://files.pythonhosted.org/packages/74/24/0cdbf8907e1e3bc5a8da03345c23cbed7044330bb8f73bb12e711a640a00/pandas-0.24.2-cp35-cp35m-manylinux1_x86_64.whl (10.0MB)\n",
      "\u001b[K    100% |████████████████████████████████| 10.0MB 5.6MB/s eta 0:00:01\n",
      "\u001b[36malgo-1-c3yh6_1  |\u001b[0m \u001b[?25hCollecting mxnet-cu90mkl>=1.4.0 (from -r requirements.txt (line 2))\n",
      "\u001b[36malgo-1-c3yh6_1  |\u001b[0m \u001b[?25l  Downloading https://files.pythonhosted.org/packages/66/c1/013d371e597e9c540de73da267aaf826e194706a8dbac7377cd1514e23ae/mxnet_cu90mkl-1.4.1-py2.py3-none-manylinux1_x86_64.whl (517.0MB)\n"
     ]
    },
    {
     "ename": "KeyboardInterrupt",
     "evalue": "",
     "output_type": "error",
     "traceback": [
      "\u001b[0;31m---------------------------------------------------------------------------\u001b[0m",
      "\u001b[0;31mKeyboardInterrupt\u001b[0m                         Traceback (most recent call last)",
      "\u001b[0;32m<ipython-input-26-ca5533a042d1>\u001b[0m in \u001b[0;36m<module>\u001b[0;34m()\u001b[0m\n\u001b[1;32m      1\u001b[0m local_estimator.fit({'train': 'file://'+LOCAL_TRAINING_DATA_DIR, \n\u001b[0;32m----> 2\u001b[0;31m                     'test': 'file://'+LOCAL_TEST_DATA_DIR})\n\u001b[0m\u001b[1;32m      3\u001b[0m \u001b[0;31m#local_estimator.fit({'train': SAMPLE_TRAINING_DATASET,\u001b[0m\u001b[0;34m\u001b[0m\u001b[0;34m\u001b[0m\u001b[0m\n\u001b[1;32m      4\u001b[0m \u001b[0;31m#                    'test': SAMPLE_TEST_DATASET})\u001b[0m\u001b[0;34m\u001b[0m\u001b[0;34m\u001b[0m\u001b[0m\n",
      "\u001b[0;32m~/anaconda3/envs/mxnet_p36/lib/python3.6/site-packages/sagemaker/estimator.py\u001b[0m in \u001b[0;36mfit\u001b[0;34m(self, inputs, wait, logs, job_name)\u001b[0m\n\u001b[1;32m    232\u001b[0m         \u001b[0mself\u001b[0m\u001b[0;34m.\u001b[0m\u001b[0m_prepare_for_training\u001b[0m\u001b[0;34m(\u001b[0m\u001b[0mjob_name\u001b[0m\u001b[0;34m=\u001b[0m\u001b[0mjob_name\u001b[0m\u001b[0;34m)\u001b[0m\u001b[0;34m\u001b[0m\u001b[0m\n\u001b[1;32m    233\u001b[0m \u001b[0;34m\u001b[0m\u001b[0m\n\u001b[0;32m--> 234\u001b[0;31m         \u001b[0mself\u001b[0m\u001b[0;34m.\u001b[0m\u001b[0mlatest_training_job\u001b[0m \u001b[0;34m=\u001b[0m \u001b[0m_TrainingJob\u001b[0m\u001b[0;34m.\u001b[0m\u001b[0mstart_new\u001b[0m\u001b[0;34m(\u001b[0m\u001b[0mself\u001b[0m\u001b[0;34m,\u001b[0m \u001b[0minputs\u001b[0m\u001b[0;34m)\u001b[0m\u001b[0;34m\u001b[0m\u001b[0m\n\u001b[0m\u001b[1;32m    235\u001b[0m         \u001b[0;32mif\u001b[0m \u001b[0mwait\u001b[0m\u001b[0;34m:\u001b[0m\u001b[0;34m\u001b[0m\u001b[0m\n\u001b[1;32m    236\u001b[0m             \u001b[0mself\u001b[0m\u001b[0;34m.\u001b[0m\u001b[0mlatest_training_job\u001b[0m\u001b[0;34m.\u001b[0m\u001b[0mwait\u001b[0m\u001b[0;34m(\u001b[0m\u001b[0mlogs\u001b[0m\u001b[0;34m=\u001b[0m\u001b[0mlogs\u001b[0m\u001b[0;34m)\u001b[0m\u001b[0;34m\u001b[0m\u001b[0m\n",
      "\u001b[0;32m~/anaconda3/envs/mxnet_p36/lib/python3.6/site-packages/sagemaker/estimator.py\u001b[0m in \u001b[0;36mstart_new\u001b[0;34m(cls, estimator, inputs)\u001b[0m\n\u001b[1;32m    581\u001b[0m             \u001b[0mtrain_args\u001b[0m\u001b[0;34m[\u001b[0m\u001b[0;34m'image'\u001b[0m\u001b[0;34m]\u001b[0m \u001b[0;34m=\u001b[0m \u001b[0mestimator\u001b[0m\u001b[0;34m.\u001b[0m\u001b[0mtrain_image\u001b[0m\u001b[0;34m(\u001b[0m\u001b[0;34m)\u001b[0m\u001b[0;34m\u001b[0m\u001b[0m\n\u001b[1;32m    582\u001b[0m \u001b[0;34m\u001b[0m\u001b[0m\n\u001b[0;32m--> 583\u001b[0;31m         \u001b[0mestimator\u001b[0m\u001b[0;34m.\u001b[0m\u001b[0msagemaker_session\u001b[0m\u001b[0;34m.\u001b[0m\u001b[0mtrain\u001b[0m\u001b[0;34m(\u001b[0m\u001b[0;34m**\u001b[0m\u001b[0mtrain_args\u001b[0m\u001b[0;34m)\u001b[0m\u001b[0;34m\u001b[0m\u001b[0m\n\u001b[0m\u001b[1;32m    584\u001b[0m \u001b[0;34m\u001b[0m\u001b[0m\n\u001b[1;32m    585\u001b[0m         \u001b[0;32mreturn\u001b[0m \u001b[0mcls\u001b[0m\u001b[0;34m(\u001b[0m\u001b[0mestimator\u001b[0m\u001b[0;34m.\u001b[0m\u001b[0msagemaker_session\u001b[0m\u001b[0;34m,\u001b[0m \u001b[0mestimator\u001b[0m\u001b[0;34m.\u001b[0m\u001b[0m_current_job_name\u001b[0m\u001b[0;34m)\u001b[0m\u001b[0;34m\u001b[0m\u001b[0m\n",
      "\u001b[0;32m~/anaconda3/envs/mxnet_p36/lib/python3.6/site-packages/sagemaker/session.py\u001b[0m in \u001b[0;36mtrain\u001b[0;34m(self, input_mode, input_config, role, job_name, output_config, resource_config, vpc_config, hyperparameters, stop_condition, tags, metric_definitions, enable_network_isolation, image, algorithm_arn, encrypt_inter_container_traffic)\u001b[0m\n\u001b[1;32m    315\u001b[0m         \u001b[0mLOGGER\u001b[0m\u001b[0;34m.\u001b[0m\u001b[0minfo\u001b[0m\u001b[0;34m(\u001b[0m\u001b[0;34m'Creating training-job with name: {}'\u001b[0m\u001b[0;34m.\u001b[0m\u001b[0mformat\u001b[0m\u001b[0;34m(\u001b[0m\u001b[0mjob_name\u001b[0m\u001b[0;34m)\u001b[0m\u001b[0;34m)\u001b[0m\u001b[0;34m\u001b[0m\u001b[0m\n\u001b[1;32m    316\u001b[0m         \u001b[0mLOGGER\u001b[0m\u001b[0;34m.\u001b[0m\u001b[0mdebug\u001b[0m\u001b[0;34m(\u001b[0m\u001b[0;34m'train request: {}'\u001b[0m\u001b[0;34m.\u001b[0m\u001b[0mformat\u001b[0m\u001b[0;34m(\u001b[0m\u001b[0mjson\u001b[0m\u001b[0;34m.\u001b[0m\u001b[0mdumps\u001b[0m\u001b[0;34m(\u001b[0m\u001b[0mtrain_request\u001b[0m\u001b[0;34m,\u001b[0m \u001b[0mindent\u001b[0m\u001b[0;34m=\u001b[0m\u001b[0;36m4\u001b[0m\u001b[0;34m)\u001b[0m\u001b[0;34m)\u001b[0m\u001b[0;34m)\u001b[0m\u001b[0;34m\u001b[0m\u001b[0m\n\u001b[0;32m--> 317\u001b[0;31m         \u001b[0mself\u001b[0m\u001b[0;34m.\u001b[0m\u001b[0msagemaker_client\u001b[0m\u001b[0;34m.\u001b[0m\u001b[0mcreate_training_job\u001b[0m\u001b[0;34m(\u001b[0m\u001b[0;34m**\u001b[0m\u001b[0mtrain_request\u001b[0m\u001b[0;34m)\u001b[0m\u001b[0;34m\u001b[0m\u001b[0m\n\u001b[0m\u001b[1;32m    318\u001b[0m \u001b[0;34m\u001b[0m\u001b[0m\n\u001b[1;32m    319\u001b[0m     def compile_model(self, input_model_config, output_model_config, role,\n",
      "\u001b[0;32m~/anaconda3/envs/mxnet_p36/lib/python3.6/site-packages/sagemaker/local/local_session.py\u001b[0m in \u001b[0;36mcreate_training_job\u001b[0;34m(self, TrainingJobName, AlgorithmSpecification, OutputDataConfig, ResourceConfig, InputDataConfig, **kwargs)\u001b[0m\n\u001b[1;32m     71\u001b[0m         \u001b[0mtraining_job\u001b[0m \u001b[0;34m=\u001b[0m \u001b[0m_LocalTrainingJob\u001b[0m\u001b[0;34m(\u001b[0m\u001b[0mcontainer\u001b[0m\u001b[0;34m)\u001b[0m\u001b[0;34m\u001b[0m\u001b[0m\n\u001b[1;32m     72\u001b[0m         \u001b[0mhyperparameters\u001b[0m \u001b[0;34m=\u001b[0m \u001b[0mkwargs\u001b[0m\u001b[0;34m[\u001b[0m\u001b[0;34m'HyperParameters'\u001b[0m\u001b[0;34m]\u001b[0m \u001b[0;32mif\u001b[0m \u001b[0;34m'HyperParameters'\u001b[0m \u001b[0;32min\u001b[0m \u001b[0mkwargs\u001b[0m \u001b[0;32melse\u001b[0m \u001b[0;34m{\u001b[0m\u001b[0;34m}\u001b[0m\u001b[0;34m\u001b[0m\u001b[0m\n\u001b[0;32m---> 73\u001b[0;31m         \u001b[0mtraining_job\u001b[0m\u001b[0;34m.\u001b[0m\u001b[0mstart\u001b[0m\u001b[0;34m(\u001b[0m\u001b[0mInputDataConfig\u001b[0m\u001b[0;34m,\u001b[0m \u001b[0mOutputDataConfig\u001b[0m\u001b[0;34m,\u001b[0m \u001b[0mhyperparameters\u001b[0m\u001b[0;34m,\u001b[0m \u001b[0mTrainingJobName\u001b[0m\u001b[0;34m)\u001b[0m\u001b[0;34m\u001b[0m\u001b[0m\n\u001b[0m\u001b[1;32m     74\u001b[0m \u001b[0;34m\u001b[0m\u001b[0m\n\u001b[1;32m     75\u001b[0m         \u001b[0mLocalSagemakerClient\u001b[0m\u001b[0;34m.\u001b[0m\u001b[0m_training_jobs\u001b[0m\u001b[0;34m[\u001b[0m\u001b[0mTrainingJobName\u001b[0m\u001b[0;34m]\u001b[0m \u001b[0;34m=\u001b[0m \u001b[0mtraining_job\u001b[0m\u001b[0;34m\u001b[0m\u001b[0m\n",
      "\u001b[0;32m~/anaconda3/envs/mxnet_p36/lib/python3.6/site-packages/sagemaker/local/entities.py\u001b[0m in \u001b[0;36mstart\u001b[0;34m(self, input_data_config, output_data_config, hyperparameters, job_name)\u001b[0m\n\u001b[1;32m     67\u001b[0m         \u001b[0mself\u001b[0m\u001b[0;34m.\u001b[0m\u001b[0mstate\u001b[0m \u001b[0;34m=\u001b[0m \u001b[0mself\u001b[0m\u001b[0;34m.\u001b[0m\u001b[0m_TRAINING\u001b[0m\u001b[0;34m\u001b[0m\u001b[0m\n\u001b[1;32m     68\u001b[0m \u001b[0;34m\u001b[0m\u001b[0m\n\u001b[0;32m---> 69\u001b[0;31m         \u001b[0mself\u001b[0m\u001b[0;34m.\u001b[0m\u001b[0mmodel_artifacts\u001b[0m \u001b[0;34m=\u001b[0m \u001b[0mself\u001b[0m\u001b[0;34m.\u001b[0m\u001b[0mcontainer\u001b[0m\u001b[0;34m.\u001b[0m\u001b[0mtrain\u001b[0m\u001b[0;34m(\u001b[0m\u001b[0minput_data_config\u001b[0m\u001b[0;34m,\u001b[0m \u001b[0moutput_data_config\u001b[0m\u001b[0;34m,\u001b[0m \u001b[0mhyperparameters\u001b[0m\u001b[0;34m,\u001b[0m \u001b[0mjob_name\u001b[0m\u001b[0;34m)\u001b[0m\u001b[0;34m\u001b[0m\u001b[0m\n\u001b[0m\u001b[1;32m     70\u001b[0m         \u001b[0mself\u001b[0m\u001b[0;34m.\u001b[0m\u001b[0mend\u001b[0m \u001b[0;34m=\u001b[0m \u001b[0mdatetime\u001b[0m\u001b[0;34m.\u001b[0m\u001b[0mdatetime\u001b[0m\u001b[0;34m.\u001b[0m\u001b[0mnow\u001b[0m\u001b[0;34m(\u001b[0m\u001b[0;34m)\u001b[0m\u001b[0;34m\u001b[0m\u001b[0m\n\u001b[1;32m     71\u001b[0m         \u001b[0mself\u001b[0m\u001b[0;34m.\u001b[0m\u001b[0mstate\u001b[0m \u001b[0;34m=\u001b[0m \u001b[0mself\u001b[0m\u001b[0;34m.\u001b[0m\u001b[0m_COMPLETED\u001b[0m\u001b[0;34m\u001b[0m\u001b[0m\n",
      "\u001b[0;32m~/anaconda3/envs/mxnet_p36/lib/python3.6/site-packages/sagemaker/local/image.py\u001b[0m in \u001b[0;36mtrain\u001b[0;34m(self, input_data_config, output_data_config, hyperparameters, job_name)\u001b[0m\n\u001b[1;32m    131\u001b[0m \u001b[0;34m\u001b[0m\u001b[0m\n\u001b[1;32m    132\u001b[0m         \u001b[0;32mtry\u001b[0m\u001b[0;34m:\u001b[0m\u001b[0;34m\u001b[0m\u001b[0m\n\u001b[0;32m--> 133\u001b[0;31m             \u001b[0m_stream_output\u001b[0m\u001b[0;34m(\u001b[0m\u001b[0mprocess\u001b[0m\u001b[0;34m)\u001b[0m\u001b[0;34m\u001b[0m\u001b[0m\n\u001b[0m\u001b[1;32m    134\u001b[0m         \u001b[0;32mexcept\u001b[0m \u001b[0mRuntimeError\u001b[0m \u001b[0;32mas\u001b[0m \u001b[0me\u001b[0m\u001b[0;34m:\u001b[0m\u001b[0;34m\u001b[0m\u001b[0m\n\u001b[1;32m    135\u001b[0m             \u001b[0;31m# _stream_output() doesn't have the command line. We will handle the exception\u001b[0m\u001b[0;34m\u001b[0m\u001b[0;34m\u001b[0m\u001b[0m\n",
      "\u001b[0;32m~/anaconda3/envs/mxnet_p36/lib/python3.6/site-packages/sagemaker/local/image.py\u001b[0m in \u001b[0;36m_stream_output\u001b[0;34m(process)\u001b[0m\n\u001b[1;32m    583\u001b[0m \u001b[0;34m\u001b[0m\u001b[0m\n\u001b[1;32m    584\u001b[0m     \u001b[0;32mwhile\u001b[0m \u001b[0mexit_code\u001b[0m \u001b[0;32mis\u001b[0m \u001b[0;32mNone\u001b[0m\u001b[0;34m:\u001b[0m\u001b[0;34m\u001b[0m\u001b[0m\n\u001b[0;32m--> 585\u001b[0;31m         \u001b[0mstdout\u001b[0m \u001b[0;34m=\u001b[0m \u001b[0mprocess\u001b[0m\u001b[0;34m.\u001b[0m\u001b[0mstdout\u001b[0m\u001b[0;34m.\u001b[0m\u001b[0mreadline\u001b[0m\u001b[0;34m(\u001b[0m\u001b[0;34m)\u001b[0m\u001b[0;34m.\u001b[0m\u001b[0mdecode\u001b[0m\u001b[0;34m(\u001b[0m\u001b[0;34m\"utf-8\"\u001b[0m\u001b[0;34m)\u001b[0m\u001b[0;34m\u001b[0m\u001b[0m\n\u001b[0m\u001b[1;32m    586\u001b[0m         \u001b[0msys\u001b[0m\u001b[0;34m.\u001b[0m\u001b[0mstdout\u001b[0m\u001b[0;34m.\u001b[0m\u001b[0mwrite\u001b[0m\u001b[0;34m(\u001b[0m\u001b[0mstdout\u001b[0m\u001b[0;34m)\u001b[0m\u001b[0;34m\u001b[0m\u001b[0m\n\u001b[1;32m    587\u001b[0m         \u001b[0mexit_code\u001b[0m \u001b[0;34m=\u001b[0m \u001b[0mprocess\u001b[0m\u001b[0;34m.\u001b[0m\u001b[0mpoll\u001b[0m\u001b[0;34m(\u001b[0m\u001b[0;34m)\u001b[0m\u001b[0;34m\u001b[0m\u001b[0m\n",
      "\u001b[0;31mKeyboardInterrupt\u001b[0m: "
     ]
    }
   ],
   "source": [
    "local_estimator.fit({'train': 'file://'+LOCAL_TRAINING_DATA_DIR, \n",
    "                    'test': 'file://'+LOCAL_TEST_DATA_DIR})\n",
    "#local_estimator.fit({'train': SAMPLE_TRAINING_DATASET, \n",
    "#                    'test': SAMPLE_TEST_DATASET})"
   ]
  },
  {
   "cell_type": "markdown",
   "metadata": {},
   "source": [
    "# Train the model\n",
    "\n",
    "Once you've identified candidate algorithm(s) and an architecture that is ready for larger scale training, you can greatly reduce the heavy-lift by utilizing Amazon SageMaker training capabilities."
   ]
  },
  {
   "cell_type": "markdown",
   "metadata": {},
   "source": [
    "## Step 1: Define your hyperparameters\n",
    "\n",
    "After you've verified that your script runs on Amazon SageMaker training without errors, a good first step is utilize the SageMaker's Automatic Model Tuning to hone in a good set of hyperparameters.\n",
    "\n",
    "The environment as well as certain hyperparameters are dependent on the amount of available GPU. We need to ensure the right libraries are installed if you select a GPU enabled instance. Secondly, if you have multiple GPUs either on a single instance or distributed cluster, you have more GPU memory available to support larger batch sizes for accelerating training time. In this case, the YOLOv3 script also needs to know how many devices you like to use for multiple GPU training on a single instance, so that data sharding can be implemented to support data parallelism.\n",
    "\n",
    "Be warn that you may need to compensate for model performance degradation as a result of training on large batch sizes by lowering the learning rate."
   ]
  },
  {
   "cell_type": "code",
   "execution_count": 22,
   "metadata": {},
   "outputs": [
    {
     "name": "stdout",
     "output_type": "stream",
     "text": [
      "You have selected ml.p3.8xlarge, which will utilize GPU.\n",
      "ml.p3.8xlarge has 4 GPUs, so we will use batch sizes in the range of 52 to 64.\n"
     ]
    }
   ],
   "source": [
    "INSTANCE_SELECTION = 'ml.p3.8xlarge'\n",
    "INSTANCE_GPUS = {\n",
    "    'ml.p3.2xlarge':1,\n",
    "    'ml.p3.8xlarge':4,\n",
    "    'ml.c5.4xlarge':0\n",
    "}\n",
    "\n",
    "GPU_TRAIN = INSTANCE_GPUS[INSTANCE_SELECTION] > 0\n",
    "\n",
    "devices = '0'\n",
    "for i in range(1,INSTANCE_GPUS[INSTANCE_SELECTION]) :\n",
    "    devices+= \",\"+str(i)\n",
    "\n",
    "batch_size_l = 13*INSTANCE_GPUS[INSTANCE_SELECTION] if GPU_TRAIN else 16\n",
    "batch_size_h = 16*INSTANCE_GPUS[INSTANCE_SELECTION] if GPU_TRAIN else 32\n",
    "\n",
    "print('You have selected {}, which will utilize {}.'.format(INSTANCE_SELECTION, 'GPU' if GPU_TRAIN else 'CPU'))\n",
    "print('{} has {} GPUs, so we will use batch sizes in the range of {} to {}.'\n",
    "      .format(INSTANCE_SELECTION,\n",
    "             INSTANCE_GPUS[INSTANCE_SELECTION],\n",
    "             batch_size_l,\n",
    "             batch_size_h))"
   ]
  },
  {
   "cell_type": "markdown",
   "metadata": {},
   "source": [
    "Next, we need to specify the objective metric so that SageMaker can use Bayesian Optimization to find hyperparameters that optimize on a specific objective. We'll use the standard objective, which is to maximize mAP on the validation set.\n",
    "\n",
    "The regex experession informs SageMaker how to parse the logs to obtain the configured objective metric. The expectation is that your script writes out the objective metric into the logs."
   ]
  },
  {
   "cell_type": "code",
   "execution_count": 31,
   "metadata": {},
   "outputs": [
    {
     "name": "stdout",
     "output_type": "stream",
     "text": [
      "[{'Name': 'mAP', 'Regex': 'Target Objective: mAP = ([0-9\\\\.]+)'}]\n"
     ]
    }
   ],
   "source": [
    "OBJECTIVE_METRIC_NAME = 'mAP'\n",
    "OBJECTIVE_TYPE = 'Maximize'\n",
    "\n",
    "METRIC_DEFINITIONS = [{ 'Name':OBJECTIVE_METRIC_NAME,\n",
    "                        'Regex':'Target Objective: {} = ([0-9\\\\.]+)'.format(OBJECTIVE_METRIC_NAME)}]\n",
    "\n",
    "print(METRIC_DEFINITIONS)"
   ]
  },
  {
   "cell_type": "markdown",
   "metadata": {},
   "source": [
    "Next, we set the hyperparameters as well as the the hyperparameter value ranges that you want Amazon SageMaker to search over.\n",
    "\n",
    "The configurations below will search for optimal values for the optimizer to use, the learning rate, and the mini-batch-size. In practice, you might want to explore other variables such as the base network, pretrained weights, and other variables that could influence the performance of your model."
   ]
  },
  {
   "cell_type": "code",
   "execution_count": 43,
   "metadata": {},
   "outputs": [
    {
     "name": "stdout",
     "output_type": "stream",
     "text": [
      "{'opt': 'adam', 'epochs': 5, 'network': 'mobilenet1.0', 'syncbn': True, 'gpus': '0'}\n"
     ]
    }
   ],
   "source": [
    "HYPERPARAMETER_RANGES = {'opt': CategoricalParameter(['adam','sgd']),\n",
    "                         'lr': ContinuousParameter(0.0002, 0.001, scaling_type='Logarithmic'),\n",
    "                         'batch_size': IntegerParameter(batch_size_l, batch_size_h)}\n",
    "\n",
    "params = {\n",
    "    'opt': 'adam',\n",
    "    'epochs': 5,\n",
    "    'network':'mobilenet1.0',\n",
    "    'syncbn':True,\n",
    "    'gpus': devices } \n",
    "\n",
    "print(params)"
   ]
  },
  {
   "cell_type": "markdown",
   "metadata": {},
   "source": [
    "One of the main benefits of the BYOS integration is that there isn't a heavy-lift involved in integration. For instance, if you want to integrate a custom algorithm in R with Amazon SageMaker, it is feasible. However, at this point in time, the BYOS integration path isn't supported in R. Integrating your R algorithm would require you to build Amazon SageMaker compatible containers to house your custom [algorithm](https://docs.aws.amazon.com/sagemaker/latest/dg/your-algorithms.html).\n",
    "\n",
    "MXNet, however, supports the BYOS integration. Therefore, SageMaker provides containers natively. The one catch is that Amazon SageMaker currently supports containers for MXNet 1.3 and lower. GluonCV requires MXNet 1.4. However, we can still avoid building our own containers by leveraging the MXNet 1.3 SageMaker container.\n",
    "\n",
    "This involves providing a requirements.txt file along with your scripts to provide Amazon SageMaker training instructions on how to update the MXNet1.3 container on launch.\n",
    "\n",
    "Since the dependencies are dependent on GPU availability, I've provided two variations of requirements.txt for our GluonCV YOLOv3 algorithm."
   ]
  },
  {
   "cell_type": "markdown",
   "metadata": {},
   "source": [
    "---\n",
    "Run the cell below to preview the dependencies required for GPU enabled training instances."
   ]
  },
  {
   "cell_type": "code",
   "execution_count": 25,
   "metadata": {},
   "outputs": [
    {
     "name": "stdout",
     "output_type": "stream",
     "text": [
      "pandas\r\n",
      "mxnet-cu90mkl>=1.4.0\r\n",
      "gluoncv\r\n"
     ]
    }
   ],
   "source": [
    "!pygmentize ../scripts/requirements-gpu.txt"
   ]
  },
  {
   "cell_type": "markdown",
   "metadata": {},
   "source": [
    "Run the cell below to preview the dependencies required for training instances that don't have GPU available."
   ]
  },
  {
   "cell_type": "code",
   "execution_count": 26,
   "metadata": {},
   "outputs": [
    {
     "name": "stdout",
     "output_type": "stream",
     "text": [
      "pandas\r\n",
      "mxnet-mkl>=1.4.0\r\n",
      "gluoncv\r\n"
     ]
    }
   ],
   "source": [
    "!pygmentize ../scripts/requirements-cpu.txt"
   ]
  },
  {
   "cell_type": "markdown",
   "metadata": {},
   "source": [
    "Now let's create the right requirements.txt file depending on which training instance you've selected."
   ]
  },
  {
   "cell_type": "code",
   "execution_count": 27,
   "metadata": {},
   "outputs": [
    {
     "name": "stdout",
     "output_type": "stream",
     "text": [
      "pandas\r\n",
      "mxnet-cu90mkl>=1.4.0\r\n",
      "gluoncv\r\n"
     ]
    }
   ],
   "source": [
    "import shutil\n",
    "if GPU_TRAIN :\n",
    "    shutil.copy('../scripts/requirements-gpu.txt','../scripts/requirements.txt')\n",
    "else :\n",
    "    shutil.copy('../scripts/requirements-cpu.txt','../scripts/requirements.txt')\n",
    "    \n",
    "!pygmentize ../scripts/requirements.txt"
   ]
  },
  {
   "cell_type": "markdown",
   "metadata": {},
   "source": [
    "## Step 2: Launch your Hyperparameter Tuning Job\n",
    "\n",
    "Similar to Lab 2, we're going to launch an hyperparamter job to automate the hyperparameter search process. The difference is that we're launching this job programatically via the Python SDK. \n",
    "\n",
    "Secondly, since we're training on a custom script, we have a couple of additional parameters: (1) we specify the location of the scripts in our local directory (source_dir) (2) we provide the name of our MXNet (GluonCV) script that serves as an entry point (entry_point) for our algorithm. \n",
    "\n",
    "Lastly, we have provided a requirements.txt file in the same directory as our scripts, so that it will be loaded into our training containers. Requirements.txt will instruct SageMaker to install the necessary dependencies on to the training containers upon launch. The values framework_version='1.3.0' and py_version='py3' informs SageMaker to use the MXNet container that has been pre-built and tested for MXNet1.3 running on python3.\n",
    "\n",
    "Replace '\\<<NAME YOUR HPO JOB\\>>' with a unique name, so that you can identify your hyperparameter tuning jobs.\n",
    "\n",
    "In this cell we instantiate an MXNet estimator. This object ecapsulates your MXNet algorithm including infrastructure configurations that it will leverage when you execute training via the fit() method."
   ]
  },
  {
   "cell_type": "code",
   "execution_count": 29,
   "metadata": {},
   "outputs": [],
   "source": [
    "import sagemaker\n",
    "from sagemaker.mxnet import MXNet\n",
    "from sagemaker.tuner import IntegerParameter, CategoricalParameter, ContinuousParameter, HyperparameterTuner\n",
    "\n",
    "role = sagemaker.get_execution_role()\n",
    "\n",
    "#BASE_JOB_NAME='dtong-yolo3-hpo'\n",
    "BASE_JOB_NAME='<<NAME YOUR HPO JOB>>'\n",
    "SOURCE_DIR = '../scripts'\n",
    "\n",
    "estimator = MXNet(entry_point='gluoncv_yolo3-sagemaker.py',\n",
    "                  role=role,\n",
    "                  source_dir=SOURCE_DIR,\n",
    "                  framework_version='1.3.0',\n",
    "                  py_version='py3',\n",
    "                  train_instance_count=1,\n",
    "                  train_instance_type=INSTANCE_SELECTION,\n",
    "                  sagemaker_session=sagemaker.Session(),\n",
    "                  base_job_name=BASE_JOB_NAME,\n",
    "                  hyperparameters=params)"
   ]
  },
  {
   "cell_type": "markdown",
   "metadata": {},
   "source": [
    "Next, we configure the parameters for our automatic hyperparameter tuner job. We provide the same parameters as we did in Lab 2 except we're instantiating the job programmatically via the SDK. Note that we only run two jobs (max_jobs=2) for the sake of demonstration. In practice, you'll need to run more to hone in on optimal parameters."
   ]
  },
  {
   "cell_type": "code",
   "execution_count": 32,
   "metadata": {},
   "outputs": [],
   "source": [
    "tuner = HyperparameterTuner(estimator,\n",
    "                            OBJECTIVE_METRIC_NAME,\n",
    "                            HYPERPARAMETER_RANGES,\n",
    "                            METRIC_DEFINITIONS,\n",
    "                            objective_type = OBJECTIVE_TYPE,\n",
    "                            max_jobs=2,\n",
    "                            max_parallel_jobs=1)"
   ]
  },
  {
   "cell_type": "markdown",
   "metadata": {},
   "source": [
    "Calling fit() on our tuner launch the job as a non-blocking asynchronous call. We pass two parameters to specify the location of our training and test sets.\n",
    "\n",
    "'Train' and 'Test' will be treated as \"channels\" and the training container will have environment variables with the name SM_CHANNEL_TRAIN and SM_CHANNEL_TEST created respectively. The datasets will be loaded from the specified S3 location, and can be access in the training container context via the environment variables (eg. os.environ['SM_CHANNEL_TRAIN'])"
   ]
  },
  {
   "cell_type": "code",
   "execution_count": 27,
   "metadata": {},
   "outputs": [
    {
     "ename": "NameError",
     "evalue": "name 'tuner' is not defined",
     "output_type": "error",
     "traceback": [
      "\u001b[0;31m---------------------------------------------------------------------------\u001b[0m",
      "\u001b[0;31mNameError\u001b[0m                                 Traceback (most recent call last)",
      "\u001b[0;32m<ipython-input-27-3063c08b33f4>\u001b[0m in \u001b[0;36m<module>\u001b[0;34m()\u001b[0m\n\u001b[0;32m----> 1\u001b[0;31m tuner.fit({'train': SAMPLE_TRAINING_DATASET, \n\u001b[0m\u001b[1;32m      2\u001b[0m            'test': SAMPLE_TEST_DATASET})\n",
      "\u001b[0;31mNameError\u001b[0m: name 'tuner' is not defined"
     ]
    }
   ],
   "source": [
    "tuner.fit({'train': SAMPLE_TRAINING_DATASET, \n",
    "           'test': SAMPLE_TEST_DATASET})"
   ]
  },
  {
   "cell_type": "markdown",
   "metadata": {},
   "source": [
    "## Step 3: Finetune your model\n",
    "\n",
    "The training process will be iterative as described in Lab 2. Eventually, you will hone in on a set of parameters, and may choose to further fine tune the model.\n",
    "\n",
    "The section below demonstrates how to perform incremental training on a model that you've previously trained. For instance, this could be the best model from your recent Hyperparameter Tuning Job. \n",
    "\n",
    "The training time required to train a YOLOv3 model is beyond what is practical for a workshop. Therefore, I've provided a pretrained YOLOv3 model that has been finetuned a sample of our CalTech Birds dataset. You can treat this model as if it were the output of your Hyperparameter Tuning Job."
   ]
  },
  {
   "cell_type": "code",
   "execution_count": 29,
   "metadata": {},
   "outputs": [],
   "source": [
    "TRAINED_MODEL = 'yolo3_mobilenet1.0_custom_best.params'\n",
    "TRAINED_MODEL_URI = 's3://reinvent2018-sagemaker-pytorch/models/caltech-birds/gluoncv/yolov3/sample/{}'.format(TRAINED_MODEL)"
   ]
  },
  {
   "cell_type": "markdown",
   "metadata": {},
   "source": [
    "Let's select an instance and rest our parameters. We'll use a smaller GPU instance for the purpose of minimizing the cost of this lab.\n",
    "\n",
    "Note that we've also set the epochs to one for the sake of demonstration. The provided model has been trained for hundreds of epochs."
   ]
  },
  {
   "cell_type": "code",
   "execution_count": 28,
   "metadata": {
    "scrolled": true
   },
   "outputs": [
    {
     "name": "stdout",
     "output_type": "stream",
     "text": [
      "{'optimizer': 'adam', 'lr': 0.0001, 'epochs': 1, 'batch-size': 16, 'network': 'mobilenet1.0', 'syncbn': True, 'pre-trained-weights': 'NONE', 'resume': 'yolo3_mobilenet1.0_custom_best.params', 'gpus': '0'}\n"
     ]
    }
   ],
   "source": [
    "INSTANCE_SELECTION = 'ml.p3.2xlarge'\n",
    "INSTANCE_GPUS = {\n",
    "    'ml.p3.2xlarge':1,\n",
    "    'ml.p3.8xlarge':4,\n",
    "    'ml.c5.4xlarge':0\n",
    "}\n",
    "\n",
    "GPU_TRAIN = INSTANCE_GPUS[INSTANCE_SELECTION] > 0\n",
    "\n",
    "devices = '0'\n",
    "for i in range(1,INSTANCE_GPUS[INSTANCE_SELECTION]) :\n",
    "    devices+= \",\"+str(i)\n",
    "\n",
    "params = {\n",
    "    'optimizer': 'adam',\n",
    "    'lr': 0.0001,\n",
    "    'epochs': 1,\n",
    "    'batch-size': 16*INSTANCE_GPUS[INSTANCE_SELECTION] if GPU_TRAIN else 32,\n",
    "    'network':'mobilenet1.0',\n",
    "    'syncbn':True,\n",
    "    'pre-trained-weights':\"NONE\",\n",
    "    'resume': TRAINED_MODEL,\n",
    "    'gpus': devices } \n",
    "print(params)"
   ]
  },
  {
   "cell_type": "markdown",
   "metadata": {},
   "source": [
    "Replace '\\<<NAME YOUR TRAINING JOB\\>>' with an unique prefix that will help you identify your training job.\n",
    "\n",
    "We're going to instantiate another MXNet estimator object. The main difference is the \"model_uri\" parameter, which will result in having the model artifacts at the specified S3 location to be uploaded into the training container. Your script can then initialize a model with those weights. The artifacts are located in the directory specified by the SM_CHANNEL_MODEL environment variable."
   ]
  },
  {
   "cell_type": "code",
   "execution_count": 30,
   "metadata": {},
   "outputs": [],
   "source": [
    "BASE_JOB_NAME ='dtong-yolo3-incremental-training'\n",
    "#BASE_JOB_NAME='<<NAME YOUR TRAINING JOB>>'\n",
    "SOURCE_DIR = '../scripts'\n",
    "\n",
    "incr_estimator = MXNet(entry_point='gluoncv_yolo3-sagemaker.py',\n",
    "                       role=role,\n",
    "                       source_dir=SOURCE_DIR,\n",
    "                       framework_version='1.3.0',\n",
    "                       py_version='py3',\n",
    "                       train_instance_count=1,\n",
    "                       train_instance_type=INSTANCE_SELECTION,\n",
    "                       sagemaker_session=sagemaker.Session(),\n",
    "                       base_job_name=BASE_JOB_NAME,\n",
    "                       hyperparameters=params,\n",
    "                       model_uri=TRAINED_MODEL_URI)"
   ]
  },
  {
   "cell_type": "code",
   "execution_count": 31,
   "metadata": {},
   "outputs": [
    {
     "name": "stdout",
     "output_type": "stream",
     "text": [
      "2019-05-16 17:09:09 Starting - Starting the training job...\n",
      "2019-05-16 17:09:12 Starting - Launching requested ML instances.........\n",
      "2019-05-16 17:10:44 Starting - Preparing the instances for training...\n",
      "2019-05-16 17:11:39 Downloading - Downloading input data...\n",
      "2019-05-16 17:11:51 Training - Downloading the training image..\n",
      "\u001b[31m2019-05-16 17:12:18,017 sagemaker-containers INFO     Imported framework sagemaker_mxnet_container.training\u001b[0m\n",
      "\u001b[31m2019-05-16 17:12:18,045 sagemaker_mxnet_container.training INFO     MXNet training environment: {'SM_HP_NETWORK': 'mobilenet1.0', 'SM_HP_SYNCBN': 'true', 'SM_OUTPUT_DATA_DIR': '/opt/ml/output/data', 'SM_LOG_LEVEL': '20', 'SM_CHANNEL_MODEL': '/opt/ml/input/data/model', 'SM_HOSTS': '[\"algo-1\"]', 'SM_RESOURCE_CONFIG': '{\"current_host\":\"algo-1\",\"hosts\":[\"algo-1\"],\"network_interface_name\":\"ethwe\"}', 'SM_OUTPUT_DIR': '/opt/ml/output', 'SM_HP_GPUS': '0', 'SM_INPUT_DIR': '/opt/ml/input', 'SM_CURRENT_HOST': 'algo-1', 'SM_HP_PRE-TRAINED-WEIGHTS': 'NONE', 'SM_HP_EPOCHS': '1', 'SM_NUM_GPUS': '1', 'SM_FRAMEWORK_PARAMS': '{}', 'SM_NETWORK_INTERFACE_NAME': 'ethwe', 'SM_MODULE_NAME': 'gluoncv_yolo3-sagemaker', 'SM_CHANNEL_TRAIN': '/opt/ml/input/data/train', 'SM_CHANNELS': '[\"model\",\"test\",\"train\"]', 'SM_HP_LR': '0.0001', 'SM_MODULE_DIR': 's3://sagemaker-us-west-2-803235869972/dtong-yolo3-incremental-training-2019-05-16-17-09-07-448/source/sourcedir.tar.gz', 'SM_USER_ENTRY_POINT': 'gluoncv_yolo3-sagemaker.py', 'SM_CHANNEL_TEST': '/opt/ml/input/data/test', 'SM_HP_RESUME': 'yolo3_mobilenet1.0_custom_best.params', 'SM_HP_BATCH-SIZE': '16', 'SM_HPS': '{\"batch-size\":16,\"epochs\":1,\"gpus\":\"0\",\"lr\":0.0001,\"network\":\"mobilenet1.0\",\"optimizer\":\"adam\",\"pre-trained-weights\":\"NONE\",\"resume\":\"yolo3_mobilenet1.0_custom_best.params\",\"syncbn\":true}', 'SM_INPUT_DATA_CONFIG': '{\"model\":{\"ContentType\":\"application/x-sagemaker-model\",\"RecordWrapperType\":\"None\",\"S3DistributionType\":\"FullyReplicated\",\"TrainingInputMode\":\"File\"},\"test\":{\"RecordWrapperType\":\"None\",\"S3DistributionType\":\"FullyReplicated\",\"TrainingInputMode\":\"File\"},\"train\":{\"RecordWrapperType\":\"None\",\"S3DistributionType\":\"FullyReplicated\",\"TrainingInputMode\":\"File\"}}', 'SM_INPUT_CONFIG_DIR': '/opt/ml/input/config', 'SM_TRAINING_ENV': '{\"additional_framework_parameters\":{},\"channel_input_dirs\":{\"model\":\"/opt/ml/input/data/model\",\"test\":\"/opt/ml/input/data/test\",\"train\":\"/opt/ml/input/data/train\"},\"current_host\":\"algo-1\",\"framework_module\":\"sagemaker_mxnet_container.training:main\",\"hosts\":[\"algo-1\"],\"hyperparameters\":{\"batch-size\":16,\"epochs\":1,\"gpus\":\"0\",\"lr\":0.0001,\"network\":\"mobilenet1.0\",\"optimizer\":\"adam\",\"pre-trained-weights\":\"NONE\",\"resume\":\"yolo3_mobilenet1.0_custom_best.params\",\"syncbn\":true},\"input_config_dir\":\"/opt/ml/input/config\",\"input_data_config\":{\"model\":{\"ContentType\":\"application/x-sagemaker-model\",\"RecordWrapperType\":\"None\",\"S3DistributionType\":\"FullyReplicated\",\"TrainingInputMode\":\"File\"},\"test\":{\"RecordWrapperType\":\"None\",\"S3DistributionType\":\"FullyReplicated\",\"TrainingInputMode\":\"File\"},\"train\":{\"RecordWrapperType\":\"None\",\"S3DistributionType\":\"FullyReplicated\",\"TrainingInputMode\":\"File\"}},\"input_dir\":\"/opt/ml/input\",\"is_master\":true,\"job_name\":\"dtong-yolo3-incremental-training-2019-05-16-17-09-07-448\",\"log_level\":20,\"master_hostname\":\"algo-1\",\"model_dir\":\"/opt/ml/model\",\"module_dir\":\"s3://sagemaker-us-west-2-803235869972/dtong-yolo3-incremental-training-2019-05-16-17-09-07-448/source/sourcedir.tar.gz\",\"module_name\":\"gluoncv_yolo3-sagemaker\",\"network_interface_name\":\"ethwe\",\"num_cpus\":8,\"num_gpus\":1,\"output_data_dir\":\"/opt/ml/output/data\",\"output_dir\":\"/opt/ml/output\",\"output_intermediate_dir\":\"/opt/ml/output/intermediate\",\"resource_config\":{\"current_host\":\"algo-1\",\"hosts\":[\"algo-1\"],\"network_interface_name\":\"ethwe\"},\"user_entry_point\":\"gluoncv_yolo3-sagemaker.py\"}', 'SM_HP_OPTIMIZER': 'adam', 'SM_OUTPUT_INTERMEDIATE_DIR': '/opt/ml/output/intermediate', 'SM_NUM_CPUS': '8', 'SM_FRAMEWORK_MODULE': 'sagemaker_mxnet_container.training:main', 'SM_USER_ARGS': '[\"--batch-size\",\"16\",\"--epochs\",\"1\",\"--gpus\",\"0\",\"--lr\",\"0.0001\",\"--network\",\"mobilenet1.0\",\"--optimizer\",\"adam\",\"--pre-trained-weights\",\"NONE\",\"--resume\",\"yolo3_mobilenet1.0_custom_best.params\",\"--syncbn\",\"True\"]', 'SM_MODEL_DIR': '/opt/ml/model'}\u001b[0m\n",
      "\u001b[31m2019-05-16 17:12:18,335 sagemaker-containers INFO     Module gluoncv_yolo3-sagemaker does not provide a setup.py. \u001b[0m\n",
      "\u001b[31mGenerating setup.py\u001b[0m\n",
      "\u001b[31m2019-05-16 17:12:18,335 sagemaker-containers INFO     Generating setup.cfg\u001b[0m\n",
      "\u001b[31m2019-05-16 17:12:18,335 sagemaker-containers INFO     Generating MANIFEST.in\u001b[0m\n",
      "\u001b[31m2019-05-16 17:12:18,335 sagemaker-containers INFO     Installing module with the following command:\u001b[0m\n",
      "\u001b[31m/usr/bin/python -m pip install -U . -r requirements.txt\u001b[0m\n",
      "\u001b[31mProcessing /opt/ml/code\u001b[0m\n",
      "\u001b[31mCollecting pandas (from -r requirements.txt (line 1))\n",
      "  Downloading https://files.pythonhosted.org/packages/74/24/0cdbf8907e1e3bc5a8da03345c23cbed7044330bb8f73bb12e711a640a00/pandas-0.24.2-cp35-cp35m-manylinux1_x86_64.whl (10.0MB)\u001b[0m\n",
      "\u001b[31mCollecting mxnet-cu90mkl>=1.4.0 (from -r requirements.txt (line 2))\n",
      "  Downloading https://files.pythonhosted.org/packages/66/c1/013d371e597e9c540de73da267aaf826e194706a8dbac7377cd1514e23ae/mxnet_cu90mkl-1.4.1-py2.py3-none-manylinux1_x86_64.whl (517.0MB)\u001b[0m\n",
      "\n",
      "2019-05-16 17:12:17 Training - Training image download completed. Training in progress.\u001b[31mCollecting gluoncv (from -r requirements.txt (line 3))\n",
      "  Downloading https://files.pythonhosted.org/packages/3d/31/9c02604787d852bd0356ff0b5d727f7c94c9ff524cc8267245ece8d5c4a5/gluoncv-0.4.0.post0-py2.py3-none-any.whl (342kB)\u001b[0m\n",
      "\u001b[31mRequirement already satisfied, skipping upgrade: numpy>=1.12.0 in /usr/local/lib/python3.5/dist-packages (from pandas->-r requirements.txt (line 1)) (1.14.6)\u001b[0m\n",
      "\u001b[31mCollecting pytz>=2011k (from pandas->-r requirements.txt (line 1))\u001b[0m\n",
      "\u001b[31m  Downloading https://files.pythonhosted.org/packages/3d/73/fe30c2daaaa0713420d0382b16fbb761409f532c56bdcc514bf7b6262bb6/pytz-2019.1-py2.py3-none-any.whl (510kB)\u001b[0m\n",
      "\u001b[31mRequirement already satisfied, skipping upgrade: python-dateutil>=2.5.0 in /usr/local/lib/python3.5/dist-packages (from pandas->-r requirements.txt (line 1)) (2.8.0)\u001b[0m\n",
      "\u001b[31mCollecting requests>=2.20.0 (from mxnet-cu90mkl>=1.4.0->-r requirements.txt (line 2))\n",
      "  Downloading https://files.pythonhosted.org/packages/51/bd/23c926cd341ea6b7dd0b2a00aba99ae0f828be89d72b2190f27c11d4b7fb/requests-2.22.0-py2.py3-none-any.whl (57kB)\u001b[0m\n",
      "\u001b[31mRequirement already satisfied, skipping upgrade: graphviz<0.9.0,>=0.8.1 in /usr/local/lib/python3.5/dist-packages (from mxnet-cu90mkl>=1.4.0->-r requirements.txt (line 2)) (0.8.4)\u001b[0m\n",
      "\u001b[31mCollecting matplotlib (from gluoncv->-r requirements.txt (line 3))\n",
      "  Downloading https://files.pythonhosted.org/packages/89/61/465fb3bfba684b0f53b5c4829c3c89e86e6fe9fdcdfda93e38f1788090f0/matplotlib-3.0.3-cp35-cp35m-manylinux1_x86_64.whl (13.0MB)\u001b[0m\n",
      "\u001b[31mCollecting Pillow (from gluoncv->-r requirements.txt (line 3))\u001b[0m\n",
      "\u001b[31m  Downloading https://files.pythonhosted.org/packages/de/62/6358ccd27b9e340affaa29e3e678b5d93a4b17f6bd7533fd6e6e87930b12/Pillow-6.0.0-cp35-cp35m-manylinux1_x86_64.whl (2.0MB)\u001b[0m\n",
      "\u001b[31mRequirement already satisfied, skipping upgrade: scipy in /usr/local/lib/python3.5/dist-packages (from gluoncv->-r requirements.txt (line 3)) (1.2.1)\u001b[0m\n",
      "\u001b[31mCollecting tqdm (from gluoncv->-r requirements.txt (line 3))\n",
      "  Downloading https://files.pythonhosted.org/packages/45/af/685bf3ce889ea191f3b916557f5677cc95a5e87b2fa120d74b5dd6d049d0/tqdm-4.32.1-py2.py3-none-any.whl (49kB)\u001b[0m\n",
      "\u001b[31mRequirement already satisfied, skipping upgrade: six>=1.5 in /usr/local/lib/python3.5/dist-packages (from python-dateutil>=2.5.0->pandas->-r requirements.txt (line 1)) (1.12.0)\u001b[0m\n",
      "\u001b[31mRequirement already satisfied, skipping upgrade: idna<2.9,>=2.5 in /usr/local/lib/python3.5/dist-packages (from requests>=2.20.0->mxnet-cu90mkl>=1.4.0->-r requirements.txt (line 2)) (2.6)\u001b[0m\n",
      "\u001b[31mRequirement already satisfied, skipping upgrade: urllib3!=1.25.0,!=1.25.1,<1.26,>=1.21.1 in /usr/local/lib/python3.5/dist-packages (from requests>=2.20.0->mxnet-cu90mkl>=1.4.0->-r requirements.txt (line 2)) (1.22)\u001b[0m\n",
      "\u001b[31mRequirement already satisfied, skipping upgrade: certifi>=2017.4.17 in /usr/local/lib/python3.5/dist-packages (from requests>=2.20.0->mxnet-cu90mkl>=1.4.0->-r requirements.txt (line 2)) (2019.3.9)\u001b[0m\n",
      "\u001b[31mRequirement already satisfied, skipping upgrade: chardet<3.1.0,>=3.0.2 in /usr/local/lib/python3.5/dist-packages (from requests>=2.20.0->mxnet-cu90mkl>=1.4.0->-r requirements.txt (line 2)) (3.0.4)\u001b[0m\n",
      "\u001b[31mCollecting pyparsing!=2.0.4,!=2.1.2,!=2.1.6,>=2.0.1 (from matplotlib->gluoncv->-r requirements.txt (line 3))\n",
      "  Downloading https://files.pythonhosted.org/packages/dd/d9/3ec19e966301a6e25769976999bd7bbe552016f0d32b577dc9d63d2e0c49/pyparsing-2.4.0-py2.py3-none-any.whl (62kB)\u001b[0m\n",
      "\u001b[31mCollecting kiwisolver>=1.0.1 (from matplotlib->gluoncv->-r requirements.txt (line 3))\n",
      "  Downloading https://files.pythonhosted.org/packages/ee/18/4cd2e84c6aff0c6a50479118083d20b9e676e5175a913c0ea76d700fc244/kiwisolver-1.1.0-cp35-cp35m-manylinux1_x86_64.whl (90kB)\u001b[0m\n",
      "\u001b[31mCollecting cycler>=0.10 (from matplotlib->gluoncv->-r requirements.txt (line 3))\n",
      "  Downloading https://files.pythonhosted.org/packages/f7/d2/e07d3ebb2bd7af696440ce7e754c59dd546ffe1bbe732c8ab68b9c834e61/cycler-0.10.0-py2.py3-none-any.whl\u001b[0m\n",
      "\u001b[31mRequirement already satisfied, skipping upgrade: setuptools in /usr/local/lib/python3.5/dist-packages (from kiwisolver>=1.0.1->matplotlib->gluoncv->-r requirements.txt (line 3)) (41.0.0)\u001b[0m\n",
      "\u001b[31mBuilding wheels for collected packages: gluoncv-yolo3-sagemaker\n",
      "  Running setup.py bdist_wheel for gluoncv-yolo3-sagemaker: started\u001b[0m\n",
      "\u001b[31m  Running setup.py bdist_wheel for gluoncv-yolo3-sagemaker: finished with status 'done'\n",
      "  Stored in directory: /tmp/pip-ephem-wheel-cache-y4br406k/wheels/35/24/16/37574d11bf9bde50616c67372a334f94fa8356bc7164af8ca3\u001b[0m\n",
      "\u001b[31mSuccessfully built gluoncv-yolo3-sagemaker\u001b[0m\n",
      "\u001b[31mInstalling collected packages: pytz, pandas, requests, mxnet-cu90mkl, pyparsing, kiwisolver, cycler, matplotlib, Pillow, tqdm, gluoncv, gluoncv-yolo3-sagemaker\u001b[0m\n",
      "\u001b[31m  Found existing installation: requests 2.18.4\n",
      "    Uninstalling requests-2.18.4:\n",
      "      Successfully uninstalled requests-2.18.4\n",
      "  Found existing installation: mxnet-cu90mkl 1.3.0.post0\n",
      "    Uninstalling mxnet-cu90mkl-1.3.0.post0:\u001b[0m\n"
     ]
    },
    {
     "name": "stdout",
     "output_type": "stream",
     "text": [
      "\u001b[31m      Successfully uninstalled mxnet-cu90mkl-1.3.0.post0\u001b[0m\n",
      "\u001b[31mSuccessfully installed Pillow-6.0.0 cycler-0.10.0 gluoncv-0.4.0.post0 gluoncv-yolo3-sagemaker-1.0.0 kiwisolver-1.1.0 matplotlib-3.0.3 mxnet-cu90mkl-1.4.1 pandas-0.24.2 pyparsing-2.4.0 pytz-2019.1 requests-2.22.0 tqdm-4.32.1\u001b[0m\n",
      "\u001b[31mYou are using pip version 18.1, however version 19.1.1 is available.\u001b[0m\n",
      "\u001b[31mYou should consider upgrading via the 'pip install --upgrade pip' command.\u001b[0m\n",
      "\u001b[31m2019-05-16 17:13:01,962 sagemaker-containers INFO     Invoking user script\n",
      "\u001b[0m\n",
      "\u001b[31mTraining Env:\n",
      "\u001b[0m\n",
      "\u001b[31m{\n",
      "    \"master_hostname\": \"algo-1\",\n",
      "    \"hosts\": [\n",
      "        \"algo-1\"\n",
      "    ],\n",
      "    \"job_name\": \"dtong-yolo3-incremental-training-2019-05-16-17-09-07-448\",\n",
      "    \"input_data_config\": {\n",
      "        \"test\": {\n",
      "            \"TrainingInputMode\": \"File\",\n",
      "            \"RecordWrapperType\": \"None\",\n",
      "            \"S3DistributionType\": \"FullyReplicated\"\n",
      "        },\n",
      "        \"model\": {\n",
      "            \"RecordWrapperType\": \"None\",\n",
      "            \"TrainingInputMode\": \"File\",\n",
      "            \"ContentType\": \"application/x-sagemaker-model\",\n",
      "            \"S3DistributionType\": \"FullyReplicated\"\n",
      "        },\n",
      "        \"train\": {\n",
      "            \"TrainingInputMode\": \"File\",\n",
      "            \"RecordWrapperType\": \"None\",\n",
      "            \"S3DistributionType\": \"FullyReplicated\"\n",
      "        }\n",
      "    },\n",
      "    \"framework_module\": \"sagemaker_mxnet_container.training:main\",\n",
      "    \"user_entry_point\": \"gluoncv_yolo3-sagemaker.py\",\n",
      "    \"module_dir\": \"s3://sagemaker-us-west-2-803235869972/dtong-yolo3-incremental-training-2019-05-16-17-09-07-448/source/sourcedir.tar.gz\",\n",
      "    \"current_host\": \"algo-1\",\n",
      "    \"network_interface_name\": \"ethwe\",\n",
      "    \"log_level\": 20,\n",
      "    \"num_gpus\": 1,\n",
      "    \"input_dir\": \"/opt/ml/input\",\n",
      "    \"resource_config\": {\n",
      "        \"network_interface_name\": \"ethwe\",\n",
      "        \"hosts\": [\n",
      "            \"algo-1\"\n",
      "        ],\n",
      "        \"current_host\": \"algo-1\"\n",
      "    },\n",
      "    \"model_dir\": \"/opt/ml/model\",\n",
      "    \"additional_framework_parameters\": {},\n",
      "    \"is_master\": true,\n",
      "    \"input_config_dir\": \"/opt/ml/input/config\",\n",
      "    \"module_name\": \"gluoncv_yolo3-sagemaker\",\n",
      "    \"output_dir\": \"/opt/ml/output\",\n",
      "    \"num_cpus\": 8,\n",
      "    \"output_intermediate_dir\": \"/opt/ml/output/intermediate\",\n",
      "    \"hyperparameters\": {\n",
      "        \"resume\": \"yolo3_mobilenet1.0_custom_best.params\",\n",
      "        \"epochs\": 1,\n",
      "        \"gpus\": \"0\",\n",
      "        \"network\": \"mobilenet1.0\",\n",
      "        \"pre-trained-weights\": \"NONE\",\n",
      "        \"batch-size\": 16,\n",
      "        \"optimizer\": \"adam\",\n",
      "        \"syncbn\": true,\n",
      "        \"lr\": 0.0001\n",
      "    },\n",
      "    \"channel_input_dirs\": {\n",
      "        \"test\": \"/opt/ml/input/data/test\",\n",
      "        \"model\": \"/opt/ml/input/data/model\",\n",
      "        \"train\": \"/opt/ml/input/data/train\"\n",
      "    },\n",
      "    \"output_data_dir\": \"/opt/ml/output/data\"\u001b[0m\n",
      "\u001b[31m}\n",
      "\u001b[0m\n",
      "\u001b[31mEnvironment variables:\n",
      "\u001b[0m\n",
      "\u001b[31mSM_HP_SYNCBN=true\u001b[0m\n",
      "\u001b[31mSM_LOG_LEVEL=20\u001b[0m\n",
      "\u001b[31mSM_CHANNEL_MODEL=/opt/ml/input/data/model\u001b[0m\n",
      "\u001b[31mSM_CHANNELS=[\"model\",\"test\",\"train\"]\u001b[0m\n",
      "\u001b[31mSM_RESOURCE_CONFIG={\"current_host\":\"algo-1\",\"hosts\":[\"algo-1\"],\"network_interface_name\":\"ethwe\"}\u001b[0m\n",
      "\u001b[31mSM_OUTPUT_DIR=/opt/ml/output\u001b[0m\n",
      "\u001b[31mSM_HP_GPUS=0\u001b[0m\n",
      "\u001b[31mSM_INPUT_DIR=/opt/ml/input\u001b[0m\n",
      "\u001b[31mSM_NUM_CPUS=8\u001b[0m\n",
      "\u001b[31mSM_HP_PRE-TRAINED-WEIGHTS=NONE\u001b[0m\n",
      "\u001b[31mSM_NUM_GPUS=1\u001b[0m\n",
      "\u001b[31mSM_CHANNEL_TRAIN=/opt/ml/input/data/train\u001b[0m\n",
      "\u001b[31mSM_MODULE_DIR=s3://sagemaker-us-west-2-803235869972/dtong-yolo3-incremental-training-2019-05-16-17-09-07-448/source/sourcedir.tar.gz\u001b[0m\n",
      "\u001b[31mSM_MODULE_NAME=gluoncv_yolo3-sagemaker\u001b[0m\n",
      "\u001b[31mSM_INPUT_DATA_CONFIG={\"model\":{\"ContentType\":\"application/x-sagemaker-model\",\"RecordWrapperType\":\"None\",\"S3DistributionType\":\"FullyReplicated\",\"TrainingInputMode\":\"File\"},\"test\":{\"RecordWrapperType\":\"None\",\"S3DistributionType\":\"FullyReplicated\",\"TrainingInputMode\":\"File\"},\"train\":{\"RecordWrapperType\":\"None\",\"S3DistributionType\":\"FullyReplicated\",\"TrainingInputMode\":\"File\"}}\u001b[0m\n",
      "\u001b[31mSM_TRAINING_ENV={\"additional_framework_parameters\":{},\"channel_input_dirs\":{\"model\":\"/opt/ml/input/data/model\",\"test\":\"/opt/ml/input/data/test\",\"train\":\"/opt/ml/input/data/train\"},\"current_host\":\"algo-1\",\"framework_module\":\"sagemaker_mxnet_container.training:main\",\"hosts\":[\"algo-1\"],\"hyperparameters\":{\"batch-size\":16,\"epochs\":1,\"gpus\":\"0\",\"lr\":0.0001,\"network\":\"mobilenet1.0\",\"optimizer\":\"adam\",\"pre-trained-weights\":\"NONE\",\"resume\":\"yolo3_mobilenet1.0_custom_best.params\",\"syncbn\":true},\"input_config_dir\":\"/opt/ml/input/config\",\"input_data_config\":{\"model\":{\"ContentType\":\"application/x-sagemaker-model\",\"RecordWrapperType\":\"None\",\"S3DistributionType\":\"FullyReplicated\",\"TrainingInputMode\":\"File\"},\"test\":{\"RecordWrapperType\":\"None\",\"S3DistributionType\":\"FullyReplicated\",\"TrainingInputMode\":\"File\"},\"train\":{\"RecordWrapperType\":\"None\",\"S3DistributionType\":\"FullyReplicated\",\"TrainingInputMode\":\"File\"}},\"input_dir\":\"/opt/ml/input\",\"is_master\":true,\"job_name\":\"dtong-yolo3-incremental-training-2019-05-16-17-09-07-448\",\"log_level\":20,\"master_hostname\":\"algo-1\",\"model_dir\":\"/opt/ml/model\",\"module_dir\":\"s3://sagemaker-us-west-2-803235869972/dtong-yolo3-incremental-training-2019-05-16-17-09-07-448/source/sourcedir.tar.gz\",\"module_name\":\"gluoncv_yolo3-sagemaker\",\"network_interface_name\":\"ethwe\",\"num_cpus\":8,\"num_gpus\":1,\"output_data_dir\":\"/opt/ml/output/data\",\"output_dir\":\"/opt/ml/output\",\"output_intermediate_dir\":\"/opt/ml/output/intermediate\",\"resource_config\":{\"current_host\":\"algo-1\",\"hosts\":[\"algo-1\"],\"network_interface_name\":\"ethwe\"},\"user_entry_point\":\"gluoncv_yolo3-sagemaker.py\"}\u001b[0m\n",
      "\u001b[31mSM_FRAMEWORK_PARAMS={}\u001b[0m\n",
      "\u001b[31mPYTHONPATH=/usr/local/bin:/usr/lib/python35.zip:/usr/lib/python3.5:/usr/lib/python3.5/plat-x86_64-linux-gnu:/usr/lib/python3.5/lib-dynload:/usr/local/lib/python3.5/dist-packages:/usr/lib/python3/dist-packages\u001b[0m\n",
      "\u001b[31mSM_FRAMEWORK_MODULE=sagemaker_mxnet_container.training:main\u001b[0m\n",
      "\u001b[31mSM_HP_NETWORK=mobilenet1.0\u001b[0m\n",
      "\u001b[31mSM_HP_OPTIMIZER=adam\u001b[0m\n",
      "\u001b[31mSM_HOSTS=[\"algo-1\"]\u001b[0m\n",
      "\u001b[31mSM_HP_EPOCHS=1\u001b[0m\n",
      "\u001b[31mSM_CURRENT_HOST=algo-1\u001b[0m\n",
      "\u001b[31mSM_USER_ARGS=[\"--batch-size\",\"16\",\"--epochs\",\"1\",\"--gpus\",\"0\",\"--lr\",\"0.0001\",\"--network\",\"mobilenet1.0\",\"--optimizer\",\"adam\",\"--pre-trained-weights\",\"NONE\",\"--resume\",\"yolo3_mobilenet1.0_custom_best.params\",\"--syncbn\",\"True\"]\u001b[0m\n",
      "\u001b[31mSM_NETWORK_INTERFACE_NAME=ethwe\u001b[0m\n",
      "\u001b[31mSM_HP_LR=0.0001\u001b[0m\n",
      "\u001b[31mSM_USER_ENTRY_POINT=gluoncv_yolo3-sagemaker.py\u001b[0m\n",
      "\u001b[31mSM_CHANNEL_TEST=/opt/ml/input/data/test\u001b[0m\n",
      "\u001b[31mSM_HP_RESUME=yolo3_mobilenet1.0_custom_best.params\u001b[0m\n",
      "\u001b[31mSM_HP_BATCH-SIZE=16\u001b[0m\n",
      "\u001b[31mSM_HPS={\"batch-size\":16,\"epochs\":1,\"gpus\":\"0\",\"lr\":0.0001,\"network\":\"mobilenet1.0\",\"optimizer\":\"adam\",\"pre-trained-weights\":\"NONE\",\"resume\":\"yolo3_mobilenet1.0_custom_best.params\",\"syncbn\":true}\u001b[0m\n",
      "\u001b[31mSM_OUTPUT_INTERMEDIATE_DIR=/opt/ml/output/intermediate\u001b[0m\n",
      "\u001b[31mSM_OUTPUT_DATA_DIR=/opt/ml/output/data\u001b[0m\n",
      "\u001b[31mSM_INPUT_CONFIG_DIR=/opt/ml/input/config\u001b[0m\n",
      "\u001b[31mSM_MODEL_DIR=/opt/ml/model\n",
      "\u001b[0m\n",
      "\u001b[31mInvoking script with the following command:\n",
      "\u001b[0m\n",
      "\u001b[31m/usr/bin/python -m gluoncv_yolo3-sagemaker --batch-size 16 --epochs 1 --gpus 0 --lr 0.0001 --network mobilenet1.0 --optimizer adam --pre-trained-weights NONE --resume yolo3_mobilenet1.0_custom_best.params --syncbn True\n",
      "\n",
      "\u001b[0m\n",
      "\u001b[31mcopying classes.cv from /opt/ml/input/data/train/classes.csv to /opt/ml/input/data/model/classes.csv.\u001b[0m\n",
      "\u001b[31mNo pre-trained weights\u001b[0m\n",
      "\u001b[31m/opt/ml/input/data/model/yolo3_mobilenet1.0_custom_best.params\u001b[0m\n",
      "\u001b[31m[17:13:13] src/operator/nn/mkldnn/mkldnn_base.cc:74: Allocate 8192 bytes with malloc directly\u001b[0m\n",
      "\u001b[31m[17:13:13] src/operator/nn/mkldnn/mkldnn_base.cc:74: Allocate 32768 bytes with malloc directly\u001b[0m\n",
      "\u001b[31m[17:13:13] src/operator/nn/mkldnn/mkldnn_base.cc:74: Allocate 18874368 bytes with malloc directly\u001b[0m\n",
      "\u001b[31mINFO:root:Namespace(batch_size=16, data_prefix='', data_shape=416, epochs=1, gpus='0', label_smooth=False, local=False, log_interval=100, lr=0.0001, lr_decay=0.1, lr_decay_epoch='160,180', lr_decay_period=0, lr_mode='step', mixup=False, model_dir='/opt/ml/model', momentum=0.9, network='mobilenet1.0', no_mixup_epochs=20, no_random_shape=False, no_wd=False, num_samples=150, num_workers=4, obj_metric='mAP', opt='adam', pre_trained_weights='NONE', resume='/opt/ml/input/data/model/yolo3_mobilenet1.0_custom_best.params', save_interval=50, save_prefix='yolo3_mobilenet1.0_custom', seed=233, start_epoch=0, syncbn=True, test='/opt/ml/input/data/test', train='/opt/ml/input/data/train', val_interval=1, warmup_epochs=0, warmup_lr=0.0, wd=0.0005)\u001b[0m\n",
      "\u001b[31mINFO:root:Start training from [Epoch 0]\u001b[0m\n",
      "\u001b[31m[17:13:19] src/operator/nn/./cudnn/./cudnn_algoreg-inl.h:97: Running performance tests to find the best convolution algorithm, this can take a while... (setting env variable MXNET_CUDNN_AUTOTUNE_DEFAULT to 0 to disable)\u001b[0m\n"
     ]
    },
    {
     "name": "stdout",
     "output_type": "stream",
     "text": [
      "\n",
      "2019-05-16 17:13:38 Uploading - Uploading generated training model\u001b[31mINFO:root:[Epoch 0] Training cost: 6.758, ObjLoss=0.878, BoxCenterLoss=1.804, BoxScaleLoss=0.325, ClassLoss=0.297\u001b[0m\n",
      "\u001b[31m[17:13:27] src/operator/nn/./cudnn/./cudnn_algoreg-inl.h:97: Running performance tests to find the best convolution algorithm, this can take a while... (setting env variable MXNET_CUDNN_AUTOTUNE_DEFAULT to 0 to disable)\u001b[0m\n",
      "\u001b[31mINFO:root:[Epoch 0] Validation: \u001b[0m\n",
      "\u001b[31m017.Cardinal=0.5454545454545455\u001b[0m\n",
      "\u001b[31m036.Northern_Flicker=1.0000000000000002\u001b[0m\n",
      "\u001b[31m047.American_Goldfinch=1.0000000000000002\u001b[0m\n",
      "\u001b[31m068.Ruby_throated_Hummingbird=1.0000000000000002\u001b[0m\n",
      "\u001b[31m073.Blue_Jay=1.0000000000000002\u001b[0m\n",
      "\u001b[31mmAP=0.9090909090909092\u001b[0m\n",
      "\u001b[31mINFO:root:Target Objective: mAP = 0.90909091\u001b[0m\n",
      "\u001b[31mattempting walk in model_dir..\u001b[0m\n",
      "\u001b[31mclasses.params\u001b[0m\n",
      "\u001b[31mmodel_info.params\u001b[0m\n",
      "\u001b[31myolo3_mobilenet1.0_custom_best.params\u001b[0m\n",
      "\u001b[31m2019-05-16 17:13:33,884 sagemaker-containers INFO     Reporting training SUCCESS\u001b[0m\n",
      "\n",
      "2019-05-16 17:14:09 Completed - Training job completed\n",
      "Billable seconds: 150\n"
     ]
    }
   ],
   "source": [
    "incr_estimator.fit({'train': SAMPLE_TRAINING_DATASET, \n",
    "                    'test': SAMPLE_TEST_DATASET})"
   ]
  },
  {
   "cell_type": "markdown",
   "metadata": {},
   "source": [
    "# Deploy your Model"
   ]
  },
  {
   "cell_type": "markdown",
   "metadata": {},
   "source": [
    "An endpoint can be programatically deployed just by calling the deploy() method on our estimator after it has been trained (via fit()). \n",
    "\n",
    "Replace \\'<<PROVIDE AN ENDPOINT NAME\\>>' with an unique name so that you can identify your endpoint. For the purpose of demonstration, we only deply an single instance. However, the endpoint can be configured for auto-scaling and deployed across a fleet to support throughput requirements."
   ]
  },
  {
   "cell_type": "code",
   "execution_count": null,
   "metadata": {},
   "outputs": [],
   "source": []
  },
  {
   "cell_type": "code",
   "execution_count": null,
   "metadata": {},
   "outputs": [],
   "source": [
    "INSTANCE_SELECTION = 'ml.c5.xlarge'\n",
    "INSTANCE_GPUS = {\n",
    "    'ml.p3.2xlarge':1,\n",
    "    'ml.c5.xlarge':0\n",
    "}\n",
    "\n",
    "GPU_INFERENCE = INSTANCE_GPUS[INSTANCE_SELECTION] > 0\n",
    "\n",
    "\n"
   ]
  },
  {
   "cell_type": "code",
   "execution_count": 41,
   "metadata": {},
   "outputs": [],
   "source": [
    "from sagemaker.mxnet import MXNetModel\n",
    "\n",
    "model_location = 's3://sagemaker-us-west-2-803235869972/dtong-yolo3-incremental-training-2019-05-16-17-09-07-448/output/model.tar.gz'\n",
    "code_location = '../scripts'\n",
    "\n",
    "yolo_model = MXNetModel(model_data = model_location,\n",
    "                        role=role,\n",
    "                        framework_version=\"1.3\",\n",
    "                        py_version=\"py3\",\n",
    "                        entry_point='gluoncv-yolo3-inference.py',\n",
    "                        env = {\"SAGEMAKER_MODEL_SERVER_TIMEOUT\":\"3600\"},\n",
    "                        source_dir=code_location)"
   ]
  },
  {
   "cell_type": "code",
   "execution_count": 42,
   "metadata": {},
   "outputs": [
    {
     "name": "stdout",
     "output_type": "stream",
     "text": [
      "endpoint name: dtong-yolov3-rt-ep-2019-05-16-18-37-31\n",
      "---------------------------------------------------------------------------------------------------------------!"
     ]
    }
   ],
   "source": [
    "RT_ENDPOINT_NAME = 'dtong-yolov3-rt-ep-{}'.format(datetime.now().strftime('%Y-%m-%d-%H-%M-%S'))\n",
    "print('endpoint name: {}'.format(RT_ENDPOINT_NAME))\n",
    "\n",
    "yolo_rt_ep = yolo_model.deploy(instance_type='ml.p3.2xlarge',\n",
    "                                initial_instance_count = 1,\n",
    "                                endpoint_name= RT_ENDPOINT_NAME)"
   ]
  },
  {
   "cell_type": "code",
   "execution_count": 44,
   "metadata": {},
   "outputs": [],
   "source": [
    "!wget -q -O multi-goldfinch-1.jpg https://t3.ftcdn.net/jpg/01/44/64/36/500_F_144643697_GJRUBtGc55KYSMpyg1Kucb9yJzvMQooW.jpg\n",
    "!wget -q -O northern-flicker-1.jpg https://upload.wikimedia.org/wikipedia/commons/5/5c/Northern_Flicker_%28Red-shafted%29.jpg\n",
    "!wget -q -O northern-cardinal-1.jpg https://cdn.pixabay.com/photo/2013/03/19/04/42/bird-94957_960_720.jpg\n",
    "!wget -q -O blue-jay-1.jpg https://cdn12.picryl.com/photo/2016/12/31/blue-jay-bird-feather-animals-b8ee04-1024.jpg\n",
    "!wget -q -O hummingbird-1.jpg http://res.freestockphotos.biz/pictures/17/17875-hummingbird-close-up-pv.jpg"
   ]
  },
  {
   "cell_type": "code",
   "execution_count": 64,
   "metadata": {},
   "outputs": [
    {
     "name": "stdout",
     "output_type": "stream",
     "text": [
      "(334, 500, 3)\n"
     ]
    }
   ],
   "source": [
    "images = ['multi-goldfinch-1.jpg','northern-flicker-1.jpg', \n",
    "          'northern-cardinal-1.jpg','blue-jay-1.jpg','hummingbird-1.jpg']\n",
    "\n",
    "filename = images[0]\n",
    "with open(filename, 'rb') as image:\n",
    "    f = image.read()\n",
    "    b = bytearray(f)\n",
    "\n",
    "nd_img = mx.img.imdecode(b)\n",
    "print(nd_img.shape)"
   ]
  },
  {
   "cell_type": "code",
   "execution_count": 65,
   "metadata": {},
   "outputs": [],
   "source": [
    "import boto3\n",
    "runtime = boto3.client(service_name='runtime.sagemaker')\n",
    "\n",
    "endpoint_response = runtime.invoke_endpoint(EndpointName=yolo_rt_ep.endpoint,\n",
    "                                           ContentType='image/jpeg',\n",
    "                                           Body=b)"
   ]
  },
  {
   "cell_type": "code",
   "execution_count": 61,
   "metadata": {},
   "outputs": [],
   "source": [
    "stacked_tensors = np.frombuffer(endpoint_response['Body'].read(), dtype=\"float32\")"
   ]
  },
  {
   "cell_type": "code",
   "execution_count": 62,
   "metadata": {},
   "outputs": [
    {
     "data": {
      "text/plain": [
       "(600,)"
      ]
     },
     "execution_count": 62,
     "metadata": {},
     "output_type": "execute_result"
    }
   ],
   "source": [
    "stacked_tensors.shape"
   ]
  },
  {
   "cell_type": "code",
   "execution_count": 66,
   "metadata": {},
   "outputs": [
    {
     "data": {
      "image/png": "[encoded data removed]",
      "text/plain": [
       "<Figure size 432x288 with 1 Axes>"
      ]
     },
     "metadata": {},
     "output_type": "display_data"
    }
   ],
   "source": [
    "classes = ['Cardinal','Northern_Flicker','American_Goldfinch',\n",
    "          'Ruby_throated_Hummingbird','Blue_Jay']\n",
    "\n",
    "t= np.split(stacked_tensors,[100,200,600])\n",
    "\n",
    "c= mx.nd.array(t[0].reshape(100,1))\n",
    "s= mx.nd.array(t[1].reshape(100,1))\n",
    "bb= mx.nd.array(t[2].reshape(100,4))\n",
    "\n",
    "x, image = gcv.data.transforms.presets.yolo.transform_test(mx.img.imdecode(b), 512)\n",
    "\n",
    "ax = viz.plot_bbox(image, bb, s,c, class_names=classes)\n",
    "plt.show()"
   ]
  },
  {
   "cell_type": "code",
   "execution_count": 53,
   "metadata": {},
   "outputs": [
    {
     "name": "stdout",
     "output_type": "stream",
     "text": [
      "{'ResponseMetadata': {'RequestId': '7a469a3d-5da0-454e-9801-4a127886cfde', 'HTTPStatusCode': 200, 'HTTPHeaders': {'x-amzn-requestid': '7a469a3d-5da0-454e-9801-4a127886cfde', 'x-amzn-invoked-production-variant': 'AllTraffic', 'date': 'Thu, 16 May 2019 18:57:32 GMT', 'content-type': 'application/json', 'content-length': '2400'}, 'RetryAttempts': 0}, 'ContentType': 'application/json', 'InvokedProductionVariant': 'AllTraffic', 'Body': <botocore.response.StreamingBody object at 0x7f8cf44ff1d0>}\n"
     ]
    }
   ],
   "source": [
    "stacked_tensors = np.frombuffer(endpoint_response, dtype=\"float32\")"
   ]
  },
  {
   "cell_type": "code",
   "execution_count": 32,
   "metadata": {},
   "outputs": [
    {
     "name": "stdout",
     "output_type": "stream",
     "text": [
      "-----------------------------------------------------------------------------------------------------------------------------------------*"
     ]
    },
    {
     "ename": "ValueError",
     "evalue": "Error hosting endpoint dtong-yolov3-rt-ep-2019-05-16-17-24-57: Failed Reason:  The primary container for production variant AllTraffic did not pass the ping health check. Please check CloudWatch logs for this endpoint.",
     "output_type": "error",
     "traceback": [
      "\u001b[0;31m---------------------------------------------------------------------------\u001b[0m",
      "\u001b[0;31mValueError\u001b[0m                                Traceback (most recent call last)",
      "\u001b[0;32m<ipython-input-32-5dbbb1593a37>\u001b[0m in \u001b[0;36m<module>\u001b[0;34m()\u001b[0m\n\u001b[1;32m      7\u001b[0m rt_inference_ep = incr_estimator.deploy(instance_type='ml.p3.2xlarge',\n\u001b[1;32m      8\u001b[0m                                         \u001b[0minitial_instance_count\u001b[0m \u001b[0;34m=\u001b[0m \u001b[0;36m1\u001b[0m\u001b[0;34m,\u001b[0m\u001b[0;34m\u001b[0m\u001b[0m\n\u001b[0;32m----> 9\u001b[0;31m                                         endpoint_name= RT_ENDPOINT_NAME)\n\u001b[0m\u001b[1;32m     10\u001b[0m \u001b[0;34m\u001b[0m\u001b[0m\n\u001b[1;32m     11\u001b[0m \u001b[0mend\u001b[0m\u001b[0;34m=\u001b[0m\u001b[0mtime\u001b[0m\u001b[0;34m.\u001b[0m\u001b[0mtime\u001b[0m\u001b[0;34m(\u001b[0m\u001b[0;34m)\u001b[0m\u001b[0;34m\u001b[0m\u001b[0m\n",
      "\u001b[0;32m~/anaconda3/envs/mxnet_p36/lib/python3.6/site-packages/sagemaker/estimator.py\u001b[0m in \u001b[0;36mdeploy\u001b[0;34m(self, initial_instance_count, instance_type, accelerator_type, endpoint_name, use_compiled_model, update_endpoint, **kwargs)\u001b[0m\n\u001b[1;32m    379\u001b[0m             \u001b[0mendpoint_name\u001b[0m\u001b[0;34m=\u001b[0m\u001b[0mendpoint_name\u001b[0m\u001b[0;34m,\u001b[0m\u001b[0;34m\u001b[0m\u001b[0m\n\u001b[1;32m    380\u001b[0m             \u001b[0mupdate_endpoint\u001b[0m\u001b[0;34m=\u001b[0m\u001b[0mupdate_endpoint\u001b[0m\u001b[0;34m,\u001b[0m\u001b[0;34m\u001b[0m\u001b[0m\n\u001b[0;32m--> 381\u001b[0;31m             tags=self.tags)\n\u001b[0m\u001b[1;32m    382\u001b[0m \u001b[0;34m\u001b[0m\u001b[0m\n\u001b[1;32m    383\u001b[0m     \u001b[0;34m@\u001b[0m\u001b[0mproperty\u001b[0m\u001b[0;34m\u001b[0m\u001b[0m\n",
      "\u001b[0;32m~/anaconda3/envs/mxnet_p36/lib/python3.6/site-packages/sagemaker/model.py\u001b[0m in \u001b[0;36mdeploy\u001b[0;34m(self, initial_instance_count, instance_type, accelerator_type, endpoint_name, update_endpoint, tags, kms_key)\u001b[0m\n\u001b[1;32m    278\u001b[0m         \u001b[0;32melse\u001b[0m\u001b[0;34m:\u001b[0m\u001b[0;34m\u001b[0m\u001b[0m\n\u001b[1;32m    279\u001b[0m             self.sagemaker_session.endpoint_from_production_variants(self.endpoint_name, [production_variant],\n\u001b[0;32m--> 280\u001b[0;31m                                                                      tags, kms_key)\n\u001b[0m\u001b[1;32m    281\u001b[0m \u001b[0;34m\u001b[0m\u001b[0m\n\u001b[1;32m    282\u001b[0m         \u001b[0;32mif\u001b[0m \u001b[0mself\u001b[0m\u001b[0;34m.\u001b[0m\u001b[0mpredictor_cls\u001b[0m\u001b[0;34m:\u001b[0m\u001b[0;34m\u001b[0m\u001b[0m\n",
      "\u001b[0;32m~/anaconda3/envs/mxnet_p36/lib/python3.6/site-packages/sagemaker/session.py\u001b[0m in \u001b[0;36mendpoint_from_production_variants\u001b[0;34m(self, name, production_variants, tags, kms_key, wait)\u001b[0m\n\u001b[1;32m   1066\u001b[0m \u001b[0;34m\u001b[0m\u001b[0m\n\u001b[1;32m   1067\u001b[0m             \u001b[0mself\u001b[0m\u001b[0;34m.\u001b[0m\u001b[0msagemaker_client\u001b[0m\u001b[0;34m.\u001b[0m\u001b[0mcreate_endpoint_config\u001b[0m\u001b[0;34m(\u001b[0m\u001b[0;34m**\u001b[0m\u001b[0mconfig_options\u001b[0m\u001b[0;34m)\u001b[0m\u001b[0;34m\u001b[0m\u001b[0m\n\u001b[0;32m-> 1068\u001b[0;31m         \u001b[0;32mreturn\u001b[0m \u001b[0mself\u001b[0m\u001b[0;34m.\u001b[0m\u001b[0mcreate_endpoint\u001b[0m\u001b[0;34m(\u001b[0m\u001b[0mendpoint_name\u001b[0m\u001b[0;34m=\u001b[0m\u001b[0mname\u001b[0m\u001b[0;34m,\u001b[0m \u001b[0mconfig_name\u001b[0m\u001b[0;34m=\u001b[0m\u001b[0mname\u001b[0m\u001b[0;34m,\u001b[0m \u001b[0mtags\u001b[0m\u001b[0;34m=\u001b[0m\u001b[0mtags\u001b[0m\u001b[0;34m,\u001b[0m \u001b[0mwait\u001b[0m\u001b[0;34m=\u001b[0m\u001b[0mwait\u001b[0m\u001b[0;34m)\u001b[0m\u001b[0;34m\u001b[0m\u001b[0m\n\u001b[0m\u001b[1;32m   1069\u001b[0m \u001b[0;34m\u001b[0m\u001b[0m\n\u001b[1;32m   1070\u001b[0m     \u001b[0;32mdef\u001b[0m \u001b[0mexpand_role\u001b[0m\u001b[0;34m(\u001b[0m\u001b[0mself\u001b[0m\u001b[0;34m,\u001b[0m \u001b[0mrole\u001b[0m\u001b[0;34m)\u001b[0m\u001b[0;34m:\u001b[0m\u001b[0;34m\u001b[0m\u001b[0m\n",
      "\u001b[0;32m~/anaconda3/envs/mxnet_p36/lib/python3.6/site-packages/sagemaker/session.py\u001b[0m in \u001b[0;36mcreate_endpoint\u001b[0;34m(self, endpoint_name, config_name, tags, wait)\u001b[0m\n\u001b[1;32m    776\u001b[0m         \u001b[0mself\u001b[0m\u001b[0;34m.\u001b[0m\u001b[0msagemaker_client\u001b[0m\u001b[0;34m.\u001b[0m\u001b[0mcreate_endpoint\u001b[0m\u001b[0;34m(\u001b[0m\u001b[0mEndpointName\u001b[0m\u001b[0;34m=\u001b[0m\u001b[0mendpoint_name\u001b[0m\u001b[0;34m,\u001b[0m \u001b[0mEndpointConfigName\u001b[0m\u001b[0;34m=\u001b[0m\u001b[0mconfig_name\u001b[0m\u001b[0;34m,\u001b[0m \u001b[0mTags\u001b[0m\u001b[0;34m=\u001b[0m\u001b[0mtags\u001b[0m\u001b[0;34m)\u001b[0m\u001b[0;34m\u001b[0m\u001b[0m\n\u001b[1;32m    777\u001b[0m         \u001b[0;32mif\u001b[0m \u001b[0mwait\u001b[0m\u001b[0;34m:\u001b[0m\u001b[0;34m\u001b[0m\u001b[0m\n\u001b[0;32m--> 778\u001b[0;31m             \u001b[0mself\u001b[0m\u001b[0;34m.\u001b[0m\u001b[0mwait_for_endpoint\u001b[0m\u001b[0;34m(\u001b[0m\u001b[0mendpoint_name\u001b[0m\u001b[0;34m)\u001b[0m\u001b[0;34m\u001b[0m\u001b[0m\n\u001b[0m\u001b[1;32m    779\u001b[0m         \u001b[0;32mreturn\u001b[0m \u001b[0mendpoint_name\u001b[0m\u001b[0;34m\u001b[0m\u001b[0m\n\u001b[1;32m    780\u001b[0m \u001b[0;34m\u001b[0m\u001b[0m\n",
      "\u001b[0;32m~/anaconda3/envs/mxnet_p36/lib/python3.6/site-packages/sagemaker/session.py\u001b[0m in \u001b[0;36mwait_for_endpoint\u001b[0;34m(self, endpoint, poll)\u001b[0m\n\u001b[1;32m    932\u001b[0m         \u001b[0;32mif\u001b[0m \u001b[0mstatus\u001b[0m \u001b[0;34m!=\u001b[0m \u001b[0;34m'InService'\u001b[0m\u001b[0;34m:\u001b[0m\u001b[0;34m\u001b[0m\u001b[0m\n\u001b[1;32m    933\u001b[0m             \u001b[0mreason\u001b[0m \u001b[0;34m=\u001b[0m \u001b[0mdesc\u001b[0m\u001b[0;34m.\u001b[0m\u001b[0mget\u001b[0m\u001b[0;34m(\u001b[0m\u001b[0;34m'FailureReason'\u001b[0m\u001b[0;34m,\u001b[0m \u001b[0;32mNone\u001b[0m\u001b[0;34m)\u001b[0m\u001b[0;34m\u001b[0m\u001b[0m\n\u001b[0;32m--> 934\u001b[0;31m             \u001b[0;32mraise\u001b[0m \u001b[0mValueError\u001b[0m\u001b[0;34m(\u001b[0m\u001b[0;34m'Error hosting endpoint {}: {} Reason: {}'\u001b[0m\u001b[0;34m.\u001b[0m\u001b[0mformat\u001b[0m\u001b[0;34m(\u001b[0m\u001b[0mendpoint\u001b[0m\u001b[0;34m,\u001b[0m \u001b[0mstatus\u001b[0m\u001b[0;34m,\u001b[0m \u001b[0mreason\u001b[0m\u001b[0;34m)\u001b[0m\u001b[0;34m)\u001b[0m\u001b[0;34m\u001b[0m\u001b[0m\n\u001b[0m\u001b[1;32m    935\u001b[0m         \u001b[0;32mreturn\u001b[0m \u001b[0mdesc\u001b[0m\u001b[0;34m\u001b[0m\u001b[0m\n\u001b[1;32m    936\u001b[0m \u001b[0;34m\u001b[0m\u001b[0m\n",
      "\u001b[0;31mValueError\u001b[0m: Error hosting endpoint dtong-yolov3-rt-ep-2019-05-16-17-24-57: Failed Reason:  The primary container for production variant AllTraffic did not pass the ping health check. Please check CloudWatch logs for this endpoint."
     ]
    }
   ],
   "source": [
    "from datetime import datetime\n",
    "\n",
    "start=time.time()\n",
    "\n",
    "RT_ENDPOINT_NAME = 'dtong-yolov3-rt-ep-{}'.format(datetime.now().strftime('%Y-%m-%d-%H-%M-%S'))\n",
    "#RT_ENDPOINT_NAME = '<<PROVIDE AN ENDPOINT NAME>>'\n",
    "rt_inference_ep = incr_estimator.deploy(instance_type='ml.p3.2xlarge',\n",
    "                                        initial_instance_count = 1,\n",
    "                                        endpoint_name= RT_ENDPOINT_NAME)\n",
    "\n",
    "end=time.time()\n",
    "\n",
    "print('Your endpoint was deployed after {} seconds.'.format(end-start))"
   ]
  },
  {
   "cell_type": "markdown",
   "metadata": {},
   "source": [
    "# Visualize"
   ]
  },
  {
   "cell_type": "code",
   "execution_count": null,
   "metadata": {},
   "outputs": [],
   "source": [
    "def visualize_detection(img_file, dets, classes=[], thresh=0.6):\n",
    "        \"\"\"\n",
    "        visualize detections in one image\n",
    "        Parameters:\n",
    "        ----------\n",
    "        img : numpy.array\n",
    "            image, in bgr format\n",
    "        dets : numpy.array\n",
    "            ssd detections, numpy.array([[id, score, x1, y1, x2, y2]...])\n",
    "            each row is one object\n",
    "        classes : tuple or list of str\n",
    "            class names\n",
    "        thresh : float\n",
    "            score threshold\n",
    "        \"\"\"\n",
    "        import random\n",
    "        import matplotlib.pyplot as plt\n",
    "        import matplotlib.image as mpimg\n",
    "\n",
    "        img = mpimg.imread(img_file)\n",
    "        plt.imshow(img)\n",
    "        height = img.shape[0]\n",
    "        width  = img.shape[1]\n",
    "        colors = dict()\n",
    "        num_detections = 0\n",
    "        for det in dets:\n",
    "            (klass, score, x0, y0, x1, y1) = det\n",
    "            if score < thresh:\n",
    "                continue\n",
    "            num_detections += 1\n",
    "            cls_id = int(klass)\n",
    "            if cls_id not in colors:\n",
    "                colors[cls_id] = (random.random(), random.random(), random.random())\n",
    "            xmin = int(x0 * width)\n",
    "            ymin = int(y0 * height)\n",
    "            xmax = int(x1 * width)\n",
    "            ymax = int(y1 * height)\n",
    "            rect = plt.Rectangle((xmin, ymin), xmax - xmin, ymax - ymin, fill=False,\n",
    "                                 edgecolor=colors[cls_id], linewidth=3.5)\n",
    "            plt.gca().add_patch(rect)\n",
    "            class_name = str(cls_id)\n",
    "            if classes and len(classes) > cls_id:\n",
    "                class_name = classes[cls_id]\n",
    "            print('{},{}'.format(class_name,score))\n",
    "            plt.gca().text(xmin, ymin - 2,\n",
    "                            '{:s} {:.3f}'.format(class_name, score),\n",
    "                            bbox=dict(facecolor=colors[cls_id], alpha=0.5),\n",
    "                                    fontsize=12, color='white')\n",
    "\n",
    "        print('Number of detections: ' + str(num_detections))\n",
    "        plt.show()"
   ]
  },
  {
   "cell_type": "code",
   "execution_count": null,
   "metadata": {},
   "outputs": [],
   "source": [
    "import boto3\n",
    "\n",
    "OBJECT_CATEGORIES = ['Cardinal','Northern_Flicker','American_Goldfinch',\n",
    "          'Ruby_throated_Hummingbird','Blue_Jay']\n",
    "\n",
    "runtime = boto3.client(service_name='runtime.sagemaker')\n",
    "\n",
    "def show_bird_prediction(filename, ep, thresh=0.40):\n",
    "    b = ''\n",
    "    with open(filename, 'rb') as image:\n",
    "        f = image.read()\n",
    "        b = bytearray(f)\n",
    "    endpoint_response = runtime.invoke_endpoint(EndpointName=ep,\n",
    "                                           ContentType='image/jpeg',\n",
    "                                           Body=b)\n",
    "    results = endpoint_response['Body'].read()\n",
    "    detections = json.loads(results)\n",
    "    visualize_detection(filename, detections['prediction'], OBJECT_CATEGORIES, thresh)"
   ]
  },
  {
   "cell_type": "code",
   "execution_count": null,
   "metadata": {},
   "outputs": [],
   "source": [
    "def test_model(object_detector):\n",
    "    show_bird_prediction('hummingbird-1.jpg', object_detector.endpoint)\n",
    "    show_bird_prediction('blue-jay-1.jpg', object_detector.endpoint)\n",
    "    show_bird_prediction('multi-goldfinch-1.jpg', object_detector.endpoint)\n",
    "    show_bird_prediction('northern-flicker-1.jpg', object_detector.endpoint)\n",
    "    show_bird_prediction('northern-cardinal-1.jpg', object_detector.endpoint)\n",
    "\n",
    "test_model(rt_inference_ep)"
   ]
  },
  {
   "cell_type": "code",
   "execution_count": null,
   "metadata": {},
   "outputs": [],
   "source": [
    "import time\n",
    "from matplotlib import pyplot as plt\n",
    "import numpy as np\n",
    "import mxnet as mx\n",
    "from mxnet import autograd, gluon\n",
    "import gluoncv as gcv\n",
    "from gluoncv.utils import download, viz\n",
    "\n",
    "images = ['multi-goldfinch-1.jpg','northern-flicker-1.jpg', \n",
    "          'northern-cardinal-1.jpg','blue-jay-1.jpg','hummingbird-1.jpg']\n",
    "\n",
    "classes = ['Cardinal','Northern_Flicker','American_Goldfinch',\n",
    "          'Ruby_throated_Hummingbird','Blue_Jay']\n",
    "    \n",
    "net = gcv.model_zoo.get_model('yolo3_mobilenet1.0_custom', classes=classes, pretrained_base=False)\n",
    "net.load_parameters('../models/pretrained/model.params')\n",
    "x, image = gcv.data.transforms.presets.yolo.load_test(images[0], 512)\n",
    "cid, score, bbox = net(x)\n",
    "ax = viz.plot_bbox(image, bbox[0], score[0], cid[0], class_names=net.classes)\n",
    "plt.show()"
   ]
  },
  {
   "cell_type": "markdown",
   "metadata": {},
   "source": [
    "Next we define an output location in S3, where the model artifacts will be placed on completion of the training. These artifacts are the output of the algorithm's traning job.  We also get the URI to the Amazon SageMaker Object Detection docker image.  This ensures the estimator uses the correct algorithm from the current region."
   ]
  },
  {
   "cell_type": "markdown",
   "metadata": {},
   "source": [
    "Now that the training job is complete, you can also see the job listed in the `Training jobs` section of your SageMaker console.  Note that the job name is uniquely identified by the name of the algorithm concatenated with the date and time stamp.  You can click on the job to see the details including the hyperparameters, the data channel definitions, and the full path to the resulting model artifacts.  You could even clone the job from the console, and tweak some of the parameters to generate a new training job."
   ]
  },
  {
   "cell_type": "markdown",
   "metadata": {},
   "source": [
    "Now we use our endpoint to try to detect objects within an image. Since the image is a jpeg, we use the appropriate content_type to run the prediction. The endpoint returns a JSON object that we can simply load and peek into. We have packaged the prediction code into a function to make it easier to test other images.  Note that we are defaulting the confidence threshold to 30% in our example, as a couple of the birds in our sample images were not being detected as clearly.  Defining an appropriate threshold is entirely dependent on your use case."
   ]
  },
  {
   "cell_type": "markdown",
   "metadata": {},
   "source": [
    "# Clean up\n",
    "Here we delete the SageMaker endpoint, as we will no longer be performing any inferences.  This is an important step, as your account is billed for the amount of time an endpoint is running, even when it is idle."
   ]
  },
  {
   "cell_type": "code",
   "execution_count": null,
   "metadata": {},
   "outputs": [],
   "source": [
    "sagemaker.Session().delete_endpoint(object_detector.endpoint)"
   ]
  },
  {
   "cell_type": "markdown",
   "metadata": {},
   "source": [
    "## Re-deploy and test"
   ]
  },
  {
   "cell_type": "code",
   "execution_count": null,
   "metadata": {},
   "outputs": [],
   "source": [
    "# host the updated model\n",
    "object_detector = od_model.deploy(initial_instance_count = 1, instance_type = 'ml.m4.xlarge')\n",
    "\n",
    "# test the new model\n",
    "test_model()"
   ]
  },
  {
   "cell_type": "markdown",
   "metadata": {},
   "source": [
    "## Final cleanup\n",
    "Here we delete the SageMaker endpoint, as we will no longer be performing any inferences.  This is an important step, as your account is billed for the amount of time an endpoint is running, even when it is idle."
   ]
  },
  {
   "cell_type": "code",
   "execution_count": null,
   "metadata": {},
   "outputs": [],
   "source": [
    "# delete the new endpoint\n",
    "sagemaker.Session().delete_endpoint(object_detector.endpoint)"
   ]
  }
 ],
 "metadata": {
  "kernelspec": {
   "display_name": "conda_mxnet_p36",
   "language": "python",
   "name": "conda_mxnet_p36"
  },
  "language_info": {
   "codemirror_mode": {
    "name": "ipython",
    "version": 3
   },
   "file_extension": ".py",
   "mimetype": "text/x-python",
   "name": "python",
   "nbconvert_exporter": "python",
   "pygments_lexer": "ipython3",
   "version": "3.6.5"
  }
 },
 "nbformat": 4,
 "nbformat_minor": 2
}
